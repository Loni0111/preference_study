{
 "cells": [
  {
   "cell_type": "markdown",
   "metadata": {},
   "source": [
    "# Part 3: Deep Learning Model"
   ]
  },
  {
   "cell_type": "markdown",
   "metadata": {},
   "source": [
    "## Step 1: Install necessary modules"
   ]
  },
  {
   "cell_type": "markdown",
   "metadata": {},
   "source": [
    "### Install pytorch package, this may take several minutes, please be patient"
   ]
  },
  {
   "cell_type": "code",
   "execution_count": 3,
   "metadata": {},
   "outputs": [
    {
     "name": "stdout",
     "output_type": "stream",
     "text": [
      "Collecting package metadata (current_repodata.json): done\n",
      "Solving environment: done\n",
      "\n",
      "## Package Plan ##\n",
      "\n",
      "  environment location: /Users/loni/opt/anaconda3\n",
      "\n",
      "  added / updated specs:\n",
      "    - pytorch\n",
      "\n",
      "\n",
      "The following packages will be downloaded:\n",
      "\n",
      "    package                    |            build\n",
      "    ---------------------------|-----------------\n",
      "    pytorch-1.7.0              |          py3.7_0        63.4 MB  pytorch\n",
      "    ------------------------------------------------------------\n",
      "                                           Total:        63.4 MB\n",
      "\n",
      "The following NEW packages will be INSTALLED:\n",
      "\n",
      "  libuv              pkgs/main/osx-64::libuv-1.40.0-haf1e3a3_0\n",
      "  typing_extensions  pkgs/main/noarch::typing_extensions-3.7.4.3-py_0\n",
      "\n",
      "The following packages will be UPDATED:\n",
      "\n",
      "  pytorch            pkgs/main::pytorch-1.6.0-cpu_py37hd70~ --> pytorch::pytorch-1.7.0-py3.7_0\n",
      "\n",
      "\n",
      "\n",
      "Downloading and Extracting Packages\n",
      "pytorch-1.7.0        | 63.4 MB   | ##################################### | 100% \n",
      "Preparing transaction: done\n",
      "Verifying transaction: done\n",
      "Executing transaction: done\n",
      "\n",
      "Note: you may need to restart the kernel to use updated packages.\n"
     ]
    }
   ],
   "source": [
    "conda install -c pytorch pytorch"
   ]
  },
  {
   "cell_type": "markdown",
   "metadata": {},
   "source": [
    "### Install other packages"
   ]
  },
  {
   "cell_type": "code",
   "execution_count": 2,
   "metadata": {},
   "outputs": [
    {
     "name": "stdout",
     "output_type": "stream",
     "text": [
      "Requirement already satisfied: Pillow in /Users/loni/opt/anaconda3/lib/python3.7/site-packages (6.2.0)\n",
      "Requirement already satisfied: torchvision in /Users/loni/opt/anaconda3/lib/python3.7/site-packages (0.8.1)\n",
      "Requirement already satisfied: numpy in /Users/loni/opt/anaconda3/lib/python3.7/site-packages (from torchvision) (1.17.2)\n",
      "Requirement already satisfied: torch==1.7.0 in /Users/loni/opt/anaconda3/lib/python3.7/site-packages (from torchvision) (1.7.0)\n",
      "Requirement already satisfied: future in /Users/loni/opt/anaconda3/lib/python3.7/site-packages (from torch==1.7.0->torchvision) (0.17.1)\n",
      "Requirement already satisfied: typing_extensions in /Users/loni/opt/anaconda3/lib/python3.7/site-packages (from torch==1.7.0->torchvision) (3.7.4.3)\n",
      "Requirement already satisfied: dataclasses in /Users/loni/opt/anaconda3/lib/python3.7/site-packages (from torch==1.7.0->torchvision) (0.6)\n",
      "Note: you may need to restart the kernel to use updated packages.\n"
     ]
    }
   ],
   "source": [
    "pip install Pillow torchvision matplotlib scikit-learn"
   ]
  },
  {
   "cell_type": "code",
   "execution_count": 337,
   "metadata": {},
   "outputs": [
    {
     "name": "stdout",
     "output_type": "stream",
     "text": [
      "Requirement already satisfied: scikit-learn in /Users/loni/opt/anaconda3/lib/python3.7/site-packages (0.21.3)\n",
      "Requirement already satisfied: scipy>=0.17.0 in /Users/loni/opt/anaconda3/lib/python3.7/site-packages (from scikit-learn) (1.3.1)\n",
      "Requirement already satisfied: numpy>=1.11.0 in /Users/loni/opt/anaconda3/lib/python3.7/site-packages (from scikit-learn) (1.17.2)\n",
      "Requirement already satisfied: joblib>=0.11 in /Users/loni/opt/anaconda3/lib/python3.7/site-packages (from scikit-learn) (0.13.2)\n",
      "Note: you may need to restart the kernel to use updated packages.\n"
     ]
    }
   ],
   "source": [
    "pip install scikit-learn"
   ]
  },
  {
   "cell_type": "markdown",
   "metadata": {},
   "source": [
    "## Step 2: Import modules"
   ]
  },
  {
   "cell_type": "code",
   "execution_count": 258,
   "metadata": {},
   "outputs": [],
   "source": [
    "import os, sys\n",
    "import numpy as np\n",
    "import pandas as pd\n",
    "import torch\n",
    "import torch.nn as nn\n",
    "import torch.nn.functional as F\n",
    "import torchvision\n",
    "import torchvision.transforms as transforms\n",
    "import matplotlib.pyplot as plt\n",
    "\n",
    "from PIL import Image\n",
    "from torch.utils.data import Dataset, DataLoader\n",
    "from sklearn.model_selection import train_test_split"
   ]
  },
  {
   "cell_type": "markdown",
   "metadata": {},
   "source": [
    "## Step 3: Image Pre-processing"
   ]
  },
  {
   "cell_type": "markdown",
   "metadata": {},
   "source": [
    "#### Images in a dataset do not usually have the same pixel intensity and dimensions. In this section, you will pre-process the dataset by standardizing the pixel values. The next required process is transforming raw images into tensors so that the algorithm can process them."
   ]
  },
  {
   "cell_type": "markdown",
   "metadata": {},
   "source": [
    "### 3.1 Import data"
   ]
  },
  {
   "cell_type": "code",
   "execution_count": 304,
   "metadata": {},
   "outputs": [
    {
     "data": {
      "text/html": [
       "<div>\n",
       "<style scoped>\n",
       "    .dataframe tbody tr th:only-of-type {\n",
       "        vertical-align: middle;\n",
       "    }\n",
       "\n",
       "    .dataframe tbody tr th {\n",
       "        vertical-align: top;\n",
       "    }\n",
       "\n",
       "    .dataframe thead th {\n",
       "        text-align: right;\n",
       "    }\n",
       "</style>\n",
       "<table border=\"1\" class=\"dataframe\">\n",
       "  <thead>\n",
       "    <tr style=\"text-align: right;\">\n",
       "      <th></th>\n",
       "      <th>imageDir</th>\n",
       "      <th>score</th>\n",
       "    </tr>\n",
       "  </thead>\n",
       "  <tbody>\n",
       "    <tr>\n",
       "      <td>0</td>\n",
       "      <td>flowers/images/0.jpg</td>\n",
       "      <td>0.363636</td>\n",
       "    </tr>\n",
       "    <tr>\n",
       "      <td>1</td>\n",
       "      <td>flowers/images/1.jpg</td>\n",
       "      <td>0.227273</td>\n",
       "    </tr>\n",
       "    <tr>\n",
       "      <td>2</td>\n",
       "      <td>flowers/images/10.jpg</td>\n",
       "      <td>0.431818</td>\n",
       "    </tr>\n",
       "    <tr>\n",
       "      <td>3</td>\n",
       "      <td>flowers/images/100.jpg</td>\n",
       "      <td>0.477273</td>\n",
       "    </tr>\n",
       "    <tr>\n",
       "      <td>4</td>\n",
       "      <td>flowers/images/101.jpg</td>\n",
       "      <td>0.454545</td>\n",
       "    </tr>\n",
       "    <tr>\n",
       "      <td>...</td>\n",
       "      <td>...</td>\n",
       "      <td>...</td>\n",
       "    </tr>\n",
       "    <tr>\n",
       "      <td>1146</td>\n",
       "      <td>paints/images/95.jpg</td>\n",
       "      <td>0.363636</td>\n",
       "    </tr>\n",
       "    <tr>\n",
       "      <td>1147</td>\n",
       "      <td>paints/images/96.jpg</td>\n",
       "      <td>0.500000</td>\n",
       "    </tr>\n",
       "    <tr>\n",
       "      <td>1148</td>\n",
       "      <td>paints/images/97.jpg</td>\n",
       "      <td>0.568182</td>\n",
       "    </tr>\n",
       "    <tr>\n",
       "      <td>1149</td>\n",
       "      <td>paints/images/98.jpg</td>\n",
       "      <td>0.613636</td>\n",
       "    </tr>\n",
       "    <tr>\n",
       "      <td>1150</td>\n",
       "      <td>paints/images/99.jpg</td>\n",
       "      <td>0.477273</td>\n",
       "    </tr>\n",
       "  </tbody>\n",
       "</table>\n",
       "<p>1151 rows × 2 columns</p>\n",
       "</div>"
      ],
      "text/plain": [
       "                    imageDir     score\n",
       "0       flowers/images/0.jpg  0.363636\n",
       "1       flowers/images/1.jpg  0.227273\n",
       "2      flowers/images/10.jpg  0.431818\n",
       "3     flowers/images/100.jpg  0.477273\n",
       "4     flowers/images/101.jpg  0.454545\n",
       "...                      ...       ...\n",
       "1146    paints/images/95.jpg  0.363636\n",
       "1147    paints/images/96.jpg  0.500000\n",
       "1148    paints/images/97.jpg  0.568182\n",
       "1149    paints/images/98.jpg  0.613636\n",
       "1150    paints/images/99.jpg  0.477273\n",
       "\n",
       "[1151 rows x 2 columns]"
      ]
     },
     "execution_count": 304,
     "metadata": {},
     "output_type": "execute_result"
    }
   ],
   "source": [
    "# The data file was created in the data clearning part\n",
    "labels = pd.read_csv('score.csv')\n",
    "labels"
   ]
  },
  {
   "cell_type": "code",
   "execution_count": 305,
   "metadata": {},
   "outputs": [],
   "source": [
    "# define 5 level of likeness\n",
    "def likeScore(score):\n",
    "    # very like\n",
    "    if score >= 0.8:\n",
    "        likeness = 4\n",
    "    # like\n",
    "    elif score >= 0.6:\n",
    "        likeness = 3\n",
    "    # midium\n",
    "    elif score >= 0.4:\n",
    "        likeness = 2\n",
    "    # dislike\n",
    "    elif score >= 0.2:\n",
    "        likeness = 1\n",
    "    # very dislike\n",
    "    else:\n",
    "        likeness = 0\n",
    "        \n",
    "    return likeness\n",
    "\n",
    "# replace score to likeness\n",
    "labels.score = labels.score.map(likeScore)"
   ]
  },
  {
   "cell_type": "code",
   "execution_count": 313,
   "metadata": {},
   "outputs": [
    {
     "data": {
      "text/html": [
       "<div>\n",
       "<style scoped>\n",
       "    .dataframe tbody tr th:only-of-type {\n",
       "        vertical-align: middle;\n",
       "    }\n",
       "\n",
       "    .dataframe tbody tr th {\n",
       "        vertical-align: top;\n",
       "    }\n",
       "\n",
       "    .dataframe thead th {\n",
       "        text-align: right;\n",
       "    }\n",
       "</style>\n",
       "<table border=\"1\" class=\"dataframe\">\n",
       "  <thead>\n",
       "    <tr style=\"text-align: right;\">\n",
       "      <th></th>\n",
       "      <th>imageDir</th>\n",
       "      <th>score</th>\n",
       "    </tr>\n",
       "  </thead>\n",
       "  <tbody>\n",
       "    <tr>\n",
       "      <td>0</td>\n",
       "      <td>flowers/images/0.jpg</td>\n",
       "      <td>1</td>\n",
       "    </tr>\n",
       "    <tr>\n",
       "      <td>1</td>\n",
       "      <td>flowers/images/1.jpg</td>\n",
       "      <td>1</td>\n",
       "    </tr>\n",
       "    <tr>\n",
       "      <td>2</td>\n",
       "      <td>flowers/images/10.jpg</td>\n",
       "      <td>2</td>\n",
       "    </tr>\n",
       "    <tr>\n",
       "      <td>3</td>\n",
       "      <td>flowers/images/100.jpg</td>\n",
       "      <td>2</td>\n",
       "    </tr>\n",
       "    <tr>\n",
       "      <td>4</td>\n",
       "      <td>flowers/images/101.jpg</td>\n",
       "      <td>2</td>\n",
       "    </tr>\n",
       "    <tr>\n",
       "      <td>...</td>\n",
       "      <td>...</td>\n",
       "      <td>...</td>\n",
       "    </tr>\n",
       "    <tr>\n",
       "      <td>1146</td>\n",
       "      <td>paints/images/95.jpg</td>\n",
       "      <td>1</td>\n",
       "    </tr>\n",
       "    <tr>\n",
       "      <td>1147</td>\n",
       "      <td>paints/images/96.jpg</td>\n",
       "      <td>2</td>\n",
       "    </tr>\n",
       "    <tr>\n",
       "      <td>1148</td>\n",
       "      <td>paints/images/97.jpg</td>\n",
       "      <td>2</td>\n",
       "    </tr>\n",
       "    <tr>\n",
       "      <td>1149</td>\n",
       "      <td>paints/images/98.jpg</td>\n",
       "      <td>3</td>\n",
       "    </tr>\n",
       "    <tr>\n",
       "      <td>1150</td>\n",
       "      <td>paints/images/99.jpg</td>\n",
       "      <td>2</td>\n",
       "    </tr>\n",
       "  </tbody>\n",
       "</table>\n",
       "<p>1151 rows × 2 columns</p>\n",
       "</div>"
      ],
      "text/plain": [
       "                    imageDir  score\n",
       "0       flowers/images/0.jpg      1\n",
       "1       flowers/images/1.jpg      1\n",
       "2      flowers/images/10.jpg      2\n",
       "3     flowers/images/100.jpg      2\n",
       "4     flowers/images/101.jpg      2\n",
       "...                      ...    ...\n",
       "1146    paints/images/95.jpg      1\n",
       "1147    paints/images/96.jpg      2\n",
       "1148    paints/images/97.jpg      2\n",
       "1149    paints/images/98.jpg      3\n",
       "1150    paints/images/99.jpg      2\n",
       "\n",
       "[1151 rows x 2 columns]"
      ]
     },
     "execution_count": 313,
     "metadata": {},
     "output_type": "execute_result"
    }
   ],
   "source": [
    "labels"
   ]
  },
  {
   "cell_type": "markdown",
   "metadata": {},
   "source": [
    "### 3.2 Resize images to 100 X 100 "
   ]
  },
  {
   "cell_type": "markdown",
   "metadata": {},
   "source": [
    "#### (not apply the module in torchvision, because the original image sizes of three different categories are different)"
   ]
  },
  {
   "cell_type": "code",
   "execution_count": null,
   "metadata": {},
   "outputs": [],
   "source": [
    "# The function create a folder for resized images.\n",
    "def imageResize(categoryList):\n",
    "    \n",
    "    for category in categoryList:\n",
    "        path = category + '/images/'\n",
    "    \n",
    "        # create a new folder for resized images\n",
    "        newpath = category + '/images_resized/'\n",
    "        os.makedirs(newpath)\n",
    "        dirs = os.listdir(path)\n",
    "\n",
    "        for item in dirs:\n",
    "            if os.path.isfile(path+item):\n",
    "                im = Image.open(path+item)\n",
    "                f, e = os.path.splitext(item)\n",
    "                imResize = im.resize((100,100), Image.ANTIALIAS)\n",
    "                imResize.save(newpath + '/' + f + '.jpg', 'JPEG', quality=90)\n",
    "                \n",
    "# Only execute the first time \n",
    "imageResize(['flowers', 'houses', 'paints'])\n",
    "\n",
    "# Update the image dir. in the dataframe, only\n",
    "labels['imageDir'] = labels['imageDir'].str.replace('images', 'images_resized')\n",
    "labels"
   ]
  },
  {
   "cell_type": "code",
   "execution_count": 314,
   "metadata": {},
   "outputs": [
    {
     "data": {
      "text/html": [
       "<div>\n",
       "<style scoped>\n",
       "    .dataframe tbody tr th:only-of-type {\n",
       "        vertical-align: middle;\n",
       "    }\n",
       "\n",
       "    .dataframe tbody tr th {\n",
       "        vertical-align: top;\n",
       "    }\n",
       "\n",
       "    .dataframe thead th {\n",
       "        text-align: right;\n",
       "    }\n",
       "</style>\n",
       "<table border=\"1\" class=\"dataframe\">\n",
       "  <thead>\n",
       "    <tr style=\"text-align: right;\">\n",
       "      <th></th>\n",
       "      <th>imageDir</th>\n",
       "      <th>score</th>\n",
       "    </tr>\n",
       "  </thead>\n",
       "  <tbody>\n",
       "    <tr>\n",
       "      <td>0</td>\n",
       "      <td>flowers/images_resized/0.jpg</td>\n",
       "      <td>1</td>\n",
       "    </tr>\n",
       "    <tr>\n",
       "      <td>1</td>\n",
       "      <td>flowers/images_resized/1.jpg</td>\n",
       "      <td>1</td>\n",
       "    </tr>\n",
       "    <tr>\n",
       "      <td>2</td>\n",
       "      <td>flowers/images_resized/10.jpg</td>\n",
       "      <td>2</td>\n",
       "    </tr>\n",
       "    <tr>\n",
       "      <td>3</td>\n",
       "      <td>flowers/images_resized/100.jpg</td>\n",
       "      <td>2</td>\n",
       "    </tr>\n",
       "    <tr>\n",
       "      <td>4</td>\n",
       "      <td>flowers/images_resized/101.jpg</td>\n",
       "      <td>2</td>\n",
       "    </tr>\n",
       "    <tr>\n",
       "      <td>...</td>\n",
       "      <td>...</td>\n",
       "      <td>...</td>\n",
       "    </tr>\n",
       "    <tr>\n",
       "      <td>1146</td>\n",
       "      <td>paints/images_resized/95.jpg</td>\n",
       "      <td>1</td>\n",
       "    </tr>\n",
       "    <tr>\n",
       "      <td>1147</td>\n",
       "      <td>paints/images_resized/96.jpg</td>\n",
       "      <td>2</td>\n",
       "    </tr>\n",
       "    <tr>\n",
       "      <td>1148</td>\n",
       "      <td>paints/images_resized/97.jpg</td>\n",
       "      <td>2</td>\n",
       "    </tr>\n",
       "    <tr>\n",
       "      <td>1149</td>\n",
       "      <td>paints/images_resized/98.jpg</td>\n",
       "      <td>3</td>\n",
       "    </tr>\n",
       "    <tr>\n",
       "      <td>1150</td>\n",
       "      <td>paints/images_resized/99.jpg</td>\n",
       "      <td>2</td>\n",
       "    </tr>\n",
       "  </tbody>\n",
       "</table>\n",
       "<p>1151 rows × 2 columns</p>\n",
       "</div>"
      ],
      "text/plain": [
       "                            imageDir  score\n",
       "0       flowers/images_resized/0.jpg      1\n",
       "1       flowers/images_resized/1.jpg      1\n",
       "2      flowers/images_resized/10.jpg      2\n",
       "3     flowers/images_resized/100.jpg      2\n",
       "4     flowers/images_resized/101.jpg      2\n",
       "...                              ...    ...\n",
       "1146    paints/images_resized/95.jpg      1\n",
       "1147    paints/images_resized/96.jpg      2\n",
       "1148    paints/images_resized/97.jpg      2\n",
       "1149    paints/images_resized/98.jpg      3\n",
       "1150    paints/images_resized/99.jpg      2\n",
       "\n",
       "[1151 rows x 2 columns]"
      ]
     },
     "execution_count": 314,
     "metadata": {},
     "output_type": "execute_result"
    }
   ],
   "source": [
    "# Update the image dir. in the dataframe, only\n",
    "labels['imageDir'] = labels['imageDir'].str.replace('images', 'images_resized')\n",
    "labels"
   ]
  },
  {
   "cell_type": "markdown",
   "metadata": {},
   "source": [
    "### 3.2 Image standardization"
   ]
  },
  {
   "cell_type": "markdown",
   "metadata": {},
   "source": [
    "#### Before normalization, let's take a look at what the original tricolor matrix of an 100 x 100 image looks like"
   ]
  },
  {
   "cell_type": "code",
   "execution_count": 53,
   "metadata": {},
   "outputs": [
    {
     "data": {
      "text/plain": [
       "array([[[30, 27, 21, ..., 16, 18, 21],\n",
       "        [27, 27, 24, ..., 18, 19, 21],\n",
       "        [25, 29, 29, ..., 20, 21, 22],\n",
       "        ...,\n",
       "        [18, 17, 21, ..., 19, 19, 21],\n",
       "        [17, 18, 22, ..., 19, 19, 21],\n",
       "        [15, 18, 21, ..., 19, 20, 21]],\n",
       "\n",
       "       [[33, 30, 22, ..., 30, 32, 35],\n",
       "        [30, 30, 25, ..., 32, 33, 35],\n",
       "        [28, 32, 30, ..., 34, 35, 36],\n",
       "        ...,\n",
       "        [21, 20, 24, ..., 33, 35, 37],\n",
       "        [20, 21, 25, ..., 35, 35, 37],\n",
       "        [18, 21, 24, ..., 35, 36, 40]],\n",
       "\n",
       "       [[26, 23, 16, ..., 13, 15, 18],\n",
       "        [23, 23, 19, ..., 15, 16, 18],\n",
       "        [21, 25, 24, ..., 17, 18, 19],\n",
       "        ...,\n",
       "        [10,  9, 13, ...,  7,  8, 10],\n",
       "        [ 9, 10, 14, ...,  8,  8, 10],\n",
       "        [ 7, 10, 13, ...,  8,  9, 12]]], dtype=uint8)"
      ]
     },
     "execution_count": 53,
     "metadata": {},
     "output_type": "execute_result"
    }
   ],
   "source": [
    "# Input: image file\n",
    "# Output: 3 dimensional array (tricolour, pixel_rawIndex, pixel_colIndex)\n",
    "def jpg_2_arr(file):\n",
    "    img=Image.open(file)\n",
    "    r,g,b=img.split()\n",
    "\n",
    "    r_arr=np.array(r).reshape(100*100)\n",
    "    g_arr=np.array(g).reshape(100*100)\n",
    "    b_arr=np.array(b).reshape(100*100)\n",
    "\n",
    "    img_arr=np.concatenate((r_arr,g_arr,b_arr))\n",
    "    result=img_arr.reshape((3,100,100))\n",
    "    return result\n",
    "\n",
    "# Exp. image\n",
    "jpg_2_arr('flowers/images_resized/0.jpg')"
   ]
  },
  {
   "cell_type": "code",
   "execution_count": 307,
   "metadata": {},
   "outputs": [],
   "source": [
    "# image normalization for better efficiency on the following propagation function \n",
    "# Declare image normalization for latter usage\n",
    "    \n",
    "# Here is ImageNet statistics\n",
    "means = [0.485, 0.456, 0.406] \n",
    "std = [0.229, 0.224, 0.225]\n",
    "\n",
    "train_transform = transforms.Compose([transforms.ToTensor(),\n",
    "                                        transforms.Normalize(means,std)])\n",
    "\n",
    "test_transform = transforms.Compose([transforms.ToTensor(),\n",
    "                                        transforms.Normalize(means,std)])\n",
    "\n",
    "valid_transform = transforms.Compose([transforms.ToTensor(),\n",
    "                                        transforms.Normalize(means,std)])"
   ]
  },
  {
   "cell_type": "markdown",
   "metadata": {},
   "source": [
    "#### Here is an example of image matrix data after normalization"
   ]
  },
  {
   "cell_type": "code",
   "execution_count": 282,
   "metadata": {},
   "outputs": [
    {
     "data": {
      "text/plain": [
       "tensor([[[-1.6042, -1.6555, -1.7583,  ..., -1.8439, -1.8097, -1.7583],\n",
       "         [-1.6555, -1.6555, -1.7069,  ..., -1.8097, -1.7925, -1.7583],\n",
       "         [-1.6898, -1.6213, -1.6213,  ..., -1.7754, -1.7583, -1.7412],\n",
       "         ...,\n",
       "         [-1.8097, -1.8268, -1.7583,  ..., -1.7925, -1.7925, -1.7583],\n",
       "         [-1.8268, -1.8097, -1.7412,  ..., -1.7925, -1.7925, -1.7583],\n",
       "         [-1.8610, -1.8097, -1.7583,  ..., -1.7925, -1.7754, -1.7583]],\n",
       "\n",
       "        [[-1.4580, -1.5105, -1.6506,  ..., -1.5105, -1.4755, -1.4230],\n",
       "         [-1.5105, -1.5105, -1.5980,  ..., -1.4755, -1.4580, -1.4230],\n",
       "         [-1.5455, -1.4755, -1.5105,  ..., -1.4405, -1.4230, -1.4055],\n",
       "         ...,\n",
       "         [-1.6681, -1.6856, -1.6155,  ..., -1.4580, -1.4230, -1.3880],\n",
       "         [-1.6856, -1.6681, -1.5980,  ..., -1.4230, -1.4230, -1.3880],\n",
       "         [-1.7206, -1.6681, -1.6155,  ..., -1.4230, -1.4055, -1.3354]],\n",
       "\n",
       "        [[-1.3513, -1.4036, -1.5256,  ..., -1.5779, -1.5430, -1.4907],\n",
       "         [-1.4036, -1.4036, -1.4733,  ..., -1.5430, -1.5256, -1.4907],\n",
       "         [-1.4384, -1.3687, -1.3861,  ..., -1.5081, -1.4907, -1.4733],\n",
       "         ...,\n",
       "         [-1.6302, -1.6476, -1.5779,  ..., -1.6824, -1.6650, -1.6302],\n",
       "         [-1.6476, -1.6302, -1.5604,  ..., -1.6650, -1.6650, -1.6302],\n",
       "         [-1.6824, -1.6302, -1.5779,  ..., -1.6650, -1.6476, -1.5953]]])"
      ]
     },
     "execution_count": 282,
     "metadata": {},
     "output_type": "execute_result"
    }
   ],
   "source": [
    "x = Image.open('flowers/images_resized/0.jpg')\n",
    "train_transform(x)"
   ]
  },
  {
   "cell_type": "markdown",
   "metadata": {},
   "source": [
    "### 3.3 Split dataset"
   ]
  },
  {
   "cell_type": "code",
   "execution_count": 315,
   "metadata": {},
   "outputs": [],
   "source": [
    "# The 'train_test_split' package are from Sklearns, which is a popular tool in machine learning fields\n",
    "# Here the train-test data size ratio is 4:1 \n",
    "train_data, test_data = train_test_split(labels, test_size=0.2)\n",
    "\n",
    "# Validation dataset will be split from the traning dataset\n",
    "train_data, valid_data = train_test_split(train_data, test_size=0.1)"
   ]
  },
  {
   "cell_type": "code",
   "execution_count": 192,
   "metadata": {},
   "outputs": [
    {
     "data": {
      "text/html": [
       "<div>\n",
       "<style scoped>\n",
       "    .dataframe tbody tr th:only-of-type {\n",
       "        vertical-align: middle;\n",
       "    }\n",
       "\n",
       "    .dataframe tbody tr th {\n",
       "        vertical-align: top;\n",
       "    }\n",
       "\n",
       "    .dataframe thead th {\n",
       "        text-align: right;\n",
       "    }\n",
       "</style>\n",
       "<table border=\"1\" class=\"dataframe\">\n",
       "  <thead>\n",
       "    <tr style=\"text-align: right;\">\n",
       "      <th></th>\n",
       "      <th>imageDir</th>\n",
       "      <th>score</th>\n",
       "    </tr>\n",
       "  </thead>\n",
       "  <tbody>\n",
       "    <tr>\n",
       "      <td>71</td>\n",
       "      <td>flowers/images_resized/162.jpg</td>\n",
       "      <td>0.659091</td>\n",
       "    </tr>\n",
       "    <tr>\n",
       "      <td>210</td>\n",
       "      <td>flowers/images_resized/288.jpg</td>\n",
       "      <td>0.727273</td>\n",
       "    </tr>\n",
       "    <tr>\n",
       "      <td>564</td>\n",
       "      <td>houses/images_resized/259.jpg</td>\n",
       "      <td>0.295455</td>\n",
       "    </tr>\n",
       "    <tr>\n",
       "      <td>307</td>\n",
       "      <td>flowers/images_resized/375.jpg</td>\n",
       "      <td>0.386364</td>\n",
       "    </tr>\n",
       "    <tr>\n",
       "      <td>34</td>\n",
       "      <td>flowers/images_resized/129.jpg</td>\n",
       "      <td>0.227273</td>\n",
       "    </tr>\n",
       "    <tr>\n",
       "      <td>...</td>\n",
       "      <td>...</td>\n",
       "      <td>...</td>\n",
       "    </tr>\n",
       "    <tr>\n",
       "      <td>1061</td>\n",
       "      <td>paints/images_resized/388.jpg</td>\n",
       "      <td>0.590909</td>\n",
       "    </tr>\n",
       "    <tr>\n",
       "      <td>211</td>\n",
       "      <td>flowers/images_resized/289.jpg</td>\n",
       "      <td>0.500000</td>\n",
       "    </tr>\n",
       "    <tr>\n",
       "      <td>865</td>\n",
       "      <td>paints/images_resized/210.jpg</td>\n",
       "      <td>0.363636</td>\n",
       "    </tr>\n",
       "    <tr>\n",
       "      <td>199</td>\n",
       "      <td>flowers/images_resized/278.jpg</td>\n",
       "      <td>0.704545</td>\n",
       "    </tr>\n",
       "    <tr>\n",
       "      <td>277</td>\n",
       "      <td>flowers/images_resized/348.jpg</td>\n",
       "      <td>0.613636</td>\n",
       "    </tr>\n",
       "  </tbody>\n",
       "</table>\n",
       "<p>828 rows × 2 columns</p>\n",
       "</div>"
      ],
      "text/plain": [
       "                            imageDir     score\n",
       "71    flowers/images_resized/162.jpg  0.659091\n",
       "210   flowers/images_resized/288.jpg  0.727273\n",
       "564    houses/images_resized/259.jpg  0.295455\n",
       "307   flowers/images_resized/375.jpg  0.386364\n",
       "34    flowers/images_resized/129.jpg  0.227273\n",
       "...                              ...       ...\n",
       "1061   paints/images_resized/388.jpg  0.590909\n",
       "211   flowers/images_resized/289.jpg  0.500000\n",
       "865    paints/images_resized/210.jpg  0.363636\n",
       "199   flowers/images_resized/278.jpg  0.704545\n",
       "277   flowers/images_resized/348.jpg  0.613636\n",
       "\n",
       "[828 rows x 2 columns]"
      ]
     },
     "execution_count": 192,
     "metadata": {},
     "output_type": "execute_result"
    }
   ],
   "source": [
    "train_data"
   ]
  },
  {
   "cell_type": "code",
   "execution_count": 193,
   "metadata": {},
   "outputs": [
    {
     "data": {
      "text/html": [
       "<div>\n",
       "<style scoped>\n",
       "    .dataframe tbody tr th:only-of-type {\n",
       "        vertical-align: middle;\n",
       "    }\n",
       "\n",
       "    .dataframe tbody tr th {\n",
       "        vertical-align: top;\n",
       "    }\n",
       "\n",
       "    .dataframe thead th {\n",
       "        text-align: right;\n",
       "    }\n",
       "</style>\n",
       "<table border=\"1\" class=\"dataframe\">\n",
       "  <thead>\n",
       "    <tr style=\"text-align: right;\">\n",
       "      <th></th>\n",
       "      <th>imageDir</th>\n",
       "      <th>score</th>\n",
       "    </tr>\n",
       "  </thead>\n",
       "  <tbody>\n",
       "    <tr>\n",
       "      <td>312</td>\n",
       "      <td>flowers/images_resized/38.jpg</td>\n",
       "      <td>0.636364</td>\n",
       "    </tr>\n",
       "    <tr>\n",
       "      <td>283</td>\n",
       "      <td>flowers/images_resized/353.jpg</td>\n",
       "      <td>0.522727</td>\n",
       "    </tr>\n",
       "    <tr>\n",
       "      <td>804</td>\n",
       "      <td>paints/images_resized/156.jpg</td>\n",
       "      <td>0.340909</td>\n",
       "    </tr>\n",
       "    <tr>\n",
       "      <td>608</td>\n",
       "      <td>houses/images_resized/30.jpg</td>\n",
       "      <td>0.590909</td>\n",
       "    </tr>\n",
       "    <tr>\n",
       "      <td>996</td>\n",
       "      <td>paints/images_resized/329.jpg</td>\n",
       "      <td>0.681818</td>\n",
       "    </tr>\n",
       "    <tr>\n",
       "      <td>...</td>\n",
       "      <td>...</td>\n",
       "      <td>...</td>\n",
       "    </tr>\n",
       "    <tr>\n",
       "      <td>289</td>\n",
       "      <td>flowers/images_resized/359.jpg</td>\n",
       "      <td>0.613636</td>\n",
       "    </tr>\n",
       "    <tr>\n",
       "      <td>754</td>\n",
       "      <td>paints/images_resized/110.jpg</td>\n",
       "      <td>0.272727</td>\n",
       "    </tr>\n",
       "    <tr>\n",
       "      <td>1031</td>\n",
       "      <td>paints/images_resized/360.jpg</td>\n",
       "      <td>0.363636</td>\n",
       "    </tr>\n",
       "    <tr>\n",
       "      <td>1001</td>\n",
       "      <td>paints/images_resized/333.jpg</td>\n",
       "      <td>0.454545</td>\n",
       "    </tr>\n",
       "    <tr>\n",
       "      <td>936</td>\n",
       "      <td>paints/images_resized/275.jpg</td>\n",
       "      <td>0.613636</td>\n",
       "    </tr>\n",
       "  </tbody>\n",
       "</table>\n",
       "<p>231 rows × 2 columns</p>\n",
       "</div>"
      ],
      "text/plain": [
       "                            imageDir     score\n",
       "312    flowers/images_resized/38.jpg  0.636364\n",
       "283   flowers/images_resized/353.jpg  0.522727\n",
       "804    paints/images_resized/156.jpg  0.340909\n",
       "608     houses/images_resized/30.jpg  0.590909\n",
       "996    paints/images_resized/329.jpg  0.681818\n",
       "...                              ...       ...\n",
       "289   flowers/images_resized/359.jpg  0.613636\n",
       "754    paints/images_resized/110.jpg  0.272727\n",
       "1031   paints/images_resized/360.jpg  0.363636\n",
       "1001   paints/images_resized/333.jpg  0.454545\n",
       "936    paints/images_resized/275.jpg  0.613636\n",
       "\n",
       "[231 rows x 2 columns]"
      ]
     },
     "execution_count": 193,
     "metadata": {},
     "output_type": "execute_result"
    }
   ],
   "source": [
    "test_data"
   ]
  },
  {
   "cell_type": "code",
   "execution_count": 316,
   "metadata": {},
   "outputs": [
    {
     "data": {
      "text/html": [
       "<div>\n",
       "<style scoped>\n",
       "    .dataframe tbody tr th:only-of-type {\n",
       "        vertical-align: middle;\n",
       "    }\n",
       "\n",
       "    .dataframe tbody tr th {\n",
       "        vertical-align: top;\n",
       "    }\n",
       "\n",
       "    .dataframe thead th {\n",
       "        text-align: right;\n",
       "    }\n",
       "</style>\n",
       "<table border=\"1\" class=\"dataframe\">\n",
       "  <thead>\n",
       "    <tr style=\"text-align: right;\">\n",
       "      <th></th>\n",
       "      <th>imageDir</th>\n",
       "      <th>score</th>\n",
       "    </tr>\n",
       "  </thead>\n",
       "  <tbody>\n",
       "    <tr>\n",
       "      <td>360</td>\n",
       "      <td>flowers/images_resized/63.jpg</td>\n",
       "      <td>2</td>\n",
       "    </tr>\n",
       "    <tr>\n",
       "      <td>198</td>\n",
       "      <td>flowers/images_resized/277.jpg</td>\n",
       "      <td>3</td>\n",
       "    </tr>\n",
       "    <tr>\n",
       "      <td>1089</td>\n",
       "      <td>paints/images_resized/43.jpg</td>\n",
       "      <td>1</td>\n",
       "    </tr>\n",
       "    <tr>\n",
       "      <td>582</td>\n",
       "      <td>houses/images_resized/276.jpg</td>\n",
       "      <td>3</td>\n",
       "    </tr>\n",
       "    <tr>\n",
       "      <td>492</td>\n",
       "      <td>houses/images_resized/190.jpg</td>\n",
       "      <td>1</td>\n",
       "    </tr>\n",
       "    <tr>\n",
       "      <td>...</td>\n",
       "      <td>...</td>\n",
       "      <td>...</td>\n",
       "    </tr>\n",
       "    <tr>\n",
       "      <td>204</td>\n",
       "      <td>flowers/images_resized/282.jpg</td>\n",
       "      <td>3</td>\n",
       "    </tr>\n",
       "    <tr>\n",
       "      <td>546</td>\n",
       "      <td>houses/images_resized/241.jpg</td>\n",
       "      <td>1</td>\n",
       "    </tr>\n",
       "    <tr>\n",
       "      <td>558</td>\n",
       "      <td>houses/images_resized/253.jpg</td>\n",
       "      <td>2</td>\n",
       "    </tr>\n",
       "    <tr>\n",
       "      <td>531</td>\n",
       "      <td>houses/images_resized/228.jpg</td>\n",
       "      <td>3</td>\n",
       "    </tr>\n",
       "    <tr>\n",
       "      <td>912</td>\n",
       "      <td>paints/images_resized/253.jpg</td>\n",
       "      <td>3</td>\n",
       "    </tr>\n",
       "  </tbody>\n",
       "</table>\n",
       "<p>92 rows × 2 columns</p>\n",
       "</div>"
      ],
      "text/plain": [
       "                            imageDir  score\n",
       "360    flowers/images_resized/63.jpg      2\n",
       "198   flowers/images_resized/277.jpg      3\n",
       "1089    paints/images_resized/43.jpg      1\n",
       "582    houses/images_resized/276.jpg      3\n",
       "492    houses/images_resized/190.jpg      1\n",
       "...                              ...    ...\n",
       "204   flowers/images_resized/282.jpg      3\n",
       "546    houses/images_resized/241.jpg      1\n",
       "558    houses/images_resized/253.jpg      2\n",
       "531    houses/images_resized/228.jpg      3\n",
       "912    paints/images_resized/253.jpg      3\n",
       "\n",
       "[92 rows x 2 columns]"
      ]
     },
     "execution_count": 316,
     "metadata": {},
     "output_type": "execute_result"
    }
   ],
   "source": [
    "valid_data"
   ]
  },
  {
   "cell_type": "markdown",
   "metadata": {},
   "source": [
    "### 3.4 Pre-process data for loaders "
   ]
  },
  {
   "cell_type": "code",
   "execution_count": 284,
   "metadata": {},
   "outputs": [],
   "source": [
    "# Declare a class for dataset format\n",
    "# input is the image score dataframe\n",
    "# output is the formatted image dataset and its score labels\n",
    "class formatDataset(Dataset):\n",
    "    def __init__(self, data, path , transform = None):\n",
    "        super().__init__()\n",
    "        self.data = data\n",
    "        self.path = path\n",
    "        self.transform = transform\n",
    "        \n",
    "    def __len__(self):\n",
    "        return len(self.data)\n",
    "    \n",
    "    def __getitem__(self,index):\n",
    "        img_path,label = self.data[index]\n",
    "        image = Image.open(img_path)\n",
    "        if self.transform is not None:\n",
    "            image = self.transform(image)\n",
    "        return image, label"
   ]
  },
  {
   "cell_type": "code",
   "execution_count": 317,
   "metadata": {},
   "outputs": [],
   "source": [
    "# Place file in the working directory\n",
    "train_path = r'/train/'\n",
    "test_path = r'/test/'\n",
    "\n",
    "train_data = formatDataset(train_data.values, train_path, train_transform)\n",
    "valid_data = formatDataset(valid_data.values, train_path, valid_transform)\n",
    "test_data = formatDataset(test_data.values, test_path, test_transform)"
   ]
  },
  {
   "cell_type": "markdown",
   "metadata": {},
   "source": [
    "### 3.5 Load dataset"
   ]
  },
  {
   "cell_type": "code",
   "execution_count": 318,
   "metadata": {},
   "outputs": [],
   "source": [
    "train_loader = DataLoader(dataset = train_data, batch_size = 4, shuffle=True, num_workers=0)\n",
    "valid_loader = DataLoader(dataset = valid_data, batch_size = 4, shuffle=False, num_workers=0)\n",
    "test_loader = DataLoader(dataset = test_data, batch_size = 4, shuffle=False, num_workers=0)"
   ]
  },
  {
   "cell_type": "code",
   "execution_count": 287,
   "metadata": {},
   "outputs": [
    {
     "data": {
      "text/plain": [
       "device(type='cpu')"
      ]
     },
     "execution_count": 287,
     "metadata": {},
     "output_type": "execute_result"
    }
   ],
   "source": [
    "# Use torch.device function to set GPU for parallel computation if there is an available GPU\n",
    "# If not, the program will use CPU by default\n",
    "device = torch.device('cuda:0' if torch.cuda.is_available() else 'cpu')\n",
    "device"
   ]
  },
  {
   "cell_type": "markdown",
   "metadata": {},
   "source": [
    "## Step 4: Construct Convolution Neural Network (CNN)"
   ]
  },
  {
   "cell_type": "markdown",
   "metadata": {},
   "source": [
    "### 4.1 Set hyper-parameters"
   ]
  },
  {
   "cell_type": "code",
   "execution_count": 331,
   "metadata": {},
   "outputs": [],
   "source": [
    "num_epochs = 50\n",
    "num_classes = 2\n",
    "batch_size = 4\n",
    "learning_rate = 0.001"
   ]
  },
  {
   "cell_type": "markdown",
   "metadata": {},
   "source": [
    "### 4.2 Build and assemble forward propogation layers "
   ]
  },
  {
   "cell_type": "markdown",
   "metadata": {},
   "source": [
    "### There will be 3 main layers in the network:"
   ]
  },
  {
   "cell_type": "markdown",
   "metadata": {},
   "source": [
    "#### 1) Convolution layer for feature abstraction\n",
    "#### 2) Pooling layer for removal of positional feature effects\n",
    "#### 3) Activation layer for non-linearity transformation\n",
    "#### Usually, there are more than one layers for each types of layers"
   ]
  },
  {
   "cell_type": "code",
   "execution_count": 311,
   "metadata": {},
   "outputs": [],
   "source": [
    "# Declare Convolution neural Network for forward propagation\n",
    "class CNN(nn.Module): \n",
    "    def __init__(self):\n",
    "        super(CNN, self).__init__()\n",
    "        self.conv1 = nn.Conv2d(in_channels=3, out_channels=10, kernel_size=3)\n",
    "        self.conv2 = nn.Conv2d(10, 20, kernel_size=3)\n",
    "        self.conv2_drop = nn.Dropout2d()\n",
    "        self.fc1 = nn.Linear(180, 1024)\n",
    "        self.fc2 = nn.Linear(1024, 5)\n",
    "\n",
    "    def forward(self, x):\n",
    "        x = F.relu(F.max_pool2d(self.conv1(x), 5))\n",
    "        x = F.relu(F.max_pool2d(self.conv2_drop(self.conv2(x)), 5))\n",
    "        x = x.view(x.shape[0],-1)\n",
    "        x = F.relu(self.fc1(x))\n",
    "        x = F.dropout(x, training=self.training)\n",
    "        x = self.fc2(x)\n",
    "        return x"
   ]
  },
  {
   "cell_type": "code",
   "execution_count": 290,
   "metadata": {},
   "outputs": [
    {
     "name": "stdout",
     "output_type": "stream",
     "text": [
      "CNN(\n",
      "  (conv1): Conv2d(3, 10, kernel_size=(3, 3), stride=(1, 1))\n",
      "  (conv2): Conv2d(10, 20, kernel_size=(3, 3), stride=(1, 1))\n",
      "  (conv2_drop): Dropout2d(p=0.5, inplace=False)\n",
      "  (fc1): Linear(in_features=180, out_features=1024, bias=True)\n",
      "  (fc2): Linear(in_features=1024, out_features=5, bias=True)\n",
      ")\n"
     ]
    }
   ],
   "source": [
    "model = CNN()\n",
    "print(model)"
   ]
  },
  {
   "cell_type": "markdown",
   "metadata": {},
   "source": [
    "## Step 5: Loss function and optimizer"
   ]
  },
  {
   "cell_type": "markdown",
   "metadata": {},
   "source": [
    "#### The most common cross-entropy loss is used in this project, which can be formulated as: \n",
    "#### logloss(N=1) = ylog(p) + (1 - y)log(1 - p)"
   ]
  },
  {
   "cell_type": "code",
   "execution_count": 291,
   "metadata": {},
   "outputs": [],
   "source": [
    "# declare loss function and optimizer\n",
    "criterion = nn.CrossEntropyLoss()"
   ]
  },
  {
   "cell_type": "markdown",
   "metadata": {},
   "source": [
    "#### Here, the adaptive moment estimation (Adam) is applied as optimizer"
   ]
  },
  {
   "cell_type": "code",
   "execution_count": 292,
   "metadata": {},
   "outputs": [],
   "source": [
    "model = CNN().to(device) # make sure the device option was run in previous step\n",
    "optimizer = torch.optim.Adam(model.parameters(), lr = learning_rate)"
   ]
  },
  {
   "cell_type": "markdown",
   "metadata": {},
   "source": [
    "## Step 6: Train and optimize"
   ]
  },
  {
   "cell_type": "code",
   "execution_count": 332,
   "metadata": {},
   "outputs": [
    {
     "name": "stdout",
     "output_type": "stream",
     "text": [
      "Epoch: 1 \tTraining Loss: 0.981811 \tValidation Loss: 1.280269\n",
      "Epoch: 2 \tTraining Loss: 0.992623 \tValidation Loss: 1.273741\n",
      "Epoch: 3 \tTraining Loss: 0.959942 \tValidation Loss: 1.280848\n",
      "Epoch: 4 \tTraining Loss: 0.952684 \tValidation Loss: 1.281827\n",
      "Epoch: 5 \tTraining Loss: 0.967177 \tValidation Loss: 1.282847\n",
      "Epoch: 6 \tTraining Loss: 0.954350 \tValidation Loss: 1.290775\n",
      "Epoch: 7 \tTraining Loss: 0.946522 \tValidation Loss: 1.292814\n",
      "Epoch: 8 \tTraining Loss: 0.972833 \tValidation Loss: 1.293446\n",
      "Epoch: 9 \tTraining Loss: 0.944201 \tValidation Loss: 1.304687\n",
      "Epoch: 10 \tTraining Loss: 0.930092 \tValidation Loss: 1.312343\n",
      "Epoch: 11 \tTraining Loss: 0.940723 \tValidation Loss: 1.319807\n",
      "Epoch: 12 \tTraining Loss: 0.918080 \tValidation Loss: 1.311483\n",
      "Epoch: 13 \tTraining Loss: 0.907122 \tValidation Loss: 1.323493\n",
      "Epoch: 14 \tTraining Loss: 0.908888 \tValidation Loss: 1.324066\n",
      "Epoch: 15 \tTraining Loss: 0.927303 \tValidation Loss: 1.341262\n",
      "Epoch: 16 \tTraining Loss: 0.896654 \tValidation Loss: 1.337131\n",
      "Epoch: 17 \tTraining Loss: 0.908932 \tValidation Loss: 1.334482\n",
      "Epoch: 18 \tTraining Loss: 0.888649 \tValidation Loss: 1.333053\n",
      "Epoch: 19 \tTraining Loss: 0.872552 \tValidation Loss: 1.358982\n",
      "Epoch: 20 \tTraining Loss: 0.838957 \tValidation Loss: 1.362171\n",
      "Epoch: 21 \tTraining Loss: 0.878473 \tValidation Loss: 1.364165\n",
      "Epoch: 22 \tTraining Loss: 0.862331 \tValidation Loss: 1.373149\n",
      "Epoch: 23 \tTraining Loss: 0.876589 \tValidation Loss: 1.360949\n",
      "Epoch: 24 \tTraining Loss: 0.871401 \tValidation Loss: 1.359677\n",
      "Epoch: 25 \tTraining Loss: 0.884495 \tValidation Loss: 1.375585\n",
      "Epoch: 26 \tTraining Loss: 0.850396 \tValidation Loss: 1.378250\n",
      "Epoch: 27 \tTraining Loss: 0.852258 \tValidation Loss: 1.429852\n",
      "Epoch: 28 \tTraining Loss: 0.873932 \tValidation Loss: 1.382278\n",
      "Epoch: 29 \tTraining Loss: 0.835729 \tValidation Loss: 1.393616\n",
      "Epoch: 30 \tTraining Loss: 0.853511 \tValidation Loss: 1.392458\n",
      "Epoch: 31 \tTraining Loss: 0.858360 \tValidation Loss: 1.391495\n",
      "Epoch: 32 \tTraining Loss: 0.811100 \tValidation Loss: 1.384108\n",
      "Epoch: 33 \tTraining Loss: 0.804039 \tValidation Loss: 1.402061\n",
      "Epoch: 34 \tTraining Loss: 0.814953 \tValidation Loss: 1.423246\n",
      "Epoch: 35 \tTraining Loss: 0.831145 \tValidation Loss: 1.413798\n",
      "Epoch: 36 \tTraining Loss: 0.804145 \tValidation Loss: 1.423740\n",
      "Epoch: 37 \tTraining Loss: 0.805995 \tValidation Loss: 1.428916\n",
      "Epoch: 38 \tTraining Loss: 0.782819 \tValidation Loss: 1.418449\n",
      "Epoch: 39 \tTraining Loss: 0.837167 \tValidation Loss: 1.412276\n",
      "Epoch: 40 \tTraining Loss: 0.818203 \tValidation Loss: 1.405510\n",
      "Epoch: 41 \tTraining Loss: 0.809406 \tValidation Loss: 1.426010\n",
      "Epoch: 42 \tTraining Loss: 0.803884 \tValidation Loss: 1.426384\n",
      "Epoch: 43 \tTraining Loss: 0.780525 \tValidation Loss: 1.433062\n",
      "Epoch: 44 \tTraining Loss: 0.773353 \tValidation Loss: 1.437105\n",
      "Epoch: 45 \tTraining Loss: 0.787645 \tValidation Loss: 1.450265\n",
      "Epoch: 46 \tTraining Loss: 0.781519 \tValidation Loss: 1.466385\n",
      "Epoch: 47 \tTraining Loss: 0.759795 \tValidation Loss: 1.460995\n",
      "Epoch: 48 \tTraining Loss: 0.739118 \tValidation Loss: 1.472605\n",
      "Epoch: 49 \tTraining Loss: 0.775062 \tValidation Loss: 1.485081\n",
      "Epoch: 50 \tTraining Loss: 0.768563 \tValidation Loss: 1.473951\n"
     ]
    }
   ],
   "source": [
    "# keeping-track-of-losses \n",
    "train_losses = []\n",
    "valid_losses = []\n",
    "\n",
    "for epoch in range(1, num_epochs + 1):\n",
    "    # keep-track-of-training-and-validation-loss\n",
    "    train_loss = 0.0\n",
    "    valid_loss = 0.0\n",
    "    \n",
    "    # training-the-model\n",
    "    model.train()\n",
    "    for data, target in train_loader:\n",
    "        # move-tensors-to-GPU \n",
    "        data = data.to(device)\n",
    "        target = target.to(device)\n",
    "        \n",
    "        # clear-the-gradients-of-all-optimized-variables\n",
    "        optimizer.zero_grad()\n",
    "        # forward-pass: compute-predicted-outputs-by-passing-inputs-to-the-model\n",
    "        output = model(data)\n",
    "        # calculate-the-batch-loss\n",
    "        loss = criterion(output, target)\n",
    "        # backward-pass: compute-gradient-of-the-loss-wrt-model-parameters\n",
    "        loss.backward()\n",
    "        # perform-a-ingle-optimization-step (parameter-update)\n",
    "        optimizer.step()\n",
    "        # update-training-loss\n",
    "        train_loss += loss.item() * data.size(0)\n",
    "        \n",
    "    # validate-the-model\n",
    "    model.eval()\n",
    "    for data, target in valid_loader:\n",
    "        \n",
    "        data = data.to(device)\n",
    "        target = target.to(device, dtype=torch.int64)\n",
    "        \n",
    "        output = model(data)\n",
    "        \n",
    "        loss = criterion(output, target)\n",
    "        \n",
    "        # update-average-validation-loss \n",
    "        valid_loss += loss.item() * data.size(0)\n",
    "    \n",
    "    # calculate-average-losses\n",
    "    train_loss = train_loss/len(train_loader.sampler)\n",
    "    valid_loss = valid_loss/len(valid_loader.sampler)\n",
    "    train_losses.append(train_loss)\n",
    "    valid_losses.append(valid_loss)\n",
    "        \n",
    "    # print-training/validation-statistics \n",
    "    print('Epoch: {} \\tTraining Loss: {:.6f} \\tValidation Loss: {:.6f}'.format(\n",
    "        epoch, train_loss, valid_loss))"
   ]
  },
  {
   "cell_type": "markdown",
   "metadata": {},
   "source": [
    "## Step 7: Test and predict"
   ]
  },
  {
   "cell_type": "code",
   "execution_count": 336,
   "metadata": {},
   "outputs": [
    {
     "name": "stdout",
     "output_type": "stream",
     "text": [
      "Test Accuracy of the model: 38.52813852813853 %\n"
     ]
    }
   ],
   "source": [
    "# test-the-model\n",
    "model.eval()  # it-disables-dropout\n",
    "with torch.no_grad():\n",
    "    correct = 0\n",
    "    total = 0\n",
    "    for images, labels in test_loader:\n",
    "        images = images.to(device)\n",
    "        labels = labels.to(device,  dtype=torch.int64)\n",
    "        outputs = model(images)\n",
    "        _, predicted = torch.max(outputs.data, 1)\n",
    "        total += labels.size(0)\n",
    "        correct += (predicted == labels).sum().item()\n",
    "          \n",
    "    print('Test Accuracy of the model: {} %'.format(100 * correct / total))\n",
    "\n",
    "# Save \n",
    "#torch.save(model.state_dict(), 'model.ckpt')"
   ]
  },
  {
   "cell_type": "code",
   "execution_count": 334,
   "metadata": {},
   "outputs": [
    {
     "data": {
      "text/plain": [
       "<matplotlib.legend.Legend at 0x7fca45b5b9d0>"
      ]
     },
     "execution_count": 334,
     "metadata": {},
     "output_type": "execute_result"
    },
    {
     "data": {
      "image/png": "[encoded data removed]",
      "text/plain": [
       "<Figure size 432x288 with 1 Axes>"
      ]
     },
     "metadata": {
      "needs_background": "light"
     },
     "output_type": "display_data"
    }
   ],
   "source": [
    "plt.plot(train_losses, label='Training loss')\n",
    "plt.plot(valid_losses, label='Validation loss')\n",
    "plt.xlabel(\"Epochs\")\n",
    "plt.ylabel(\"Loss\")\n",
    "plt.legend(frameon=False)"
   ]
  },
  {
   "cell_type": "code",
   "execution_count": null,
   "metadata": {},
   "outputs": [],
   "source": []
  }
 ],
 "metadata": {
  "kernelspec": {
   "display_name": "Python 3",
   "language": "python",
   "name": "python3"
  },
  "language_info": {
   "codemirror_mode": {
    "name": "ipython",
    "version": 3
   },
   "file_extension": ".py",
   "mimetype": "text/x-python",
   "name": "python",
   "nbconvert_exporter": "python",
   "pygments_lexer": "ipython3",
   "version": "3.7.4"
  }
 },
 "nbformat": 4,
 "nbformat_minor": 2
}
