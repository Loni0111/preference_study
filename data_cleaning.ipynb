{
 "cells": [
  {
   "cell_type": "markdown",
   "metadata": {},
   "source": [
    "# Part 2: Data Analysis"
   ]
  },
  {
   "cell_type": "markdown",
   "metadata": {},
   "source": [
    "## Step 1: Install necessary modules"
   ]
  },
  {
   "cell_type": "code",
   "execution_count": 2,
   "metadata": {},
   "outputs": [
    {
     "name": "stdout",
     "output_type": "stream",
     "text": [
      "Requirement already satisfied: numpy in /Users/loni/opt/anaconda3/lib/python3.7/site-packages (1.17.2)\n",
      "Requirement already satisfied: pandas in /Users/loni/opt/anaconda3/lib/python3.7/site-packages (0.25.1)\n",
      "Requirement already satisfied: matplotlib in /Users/loni/opt/anaconda3/lib/python3.7/site-packages (3.1.1)\n",
      "Requirement already satisfied: python-dateutil>=2.6.1 in /Users/loni/opt/anaconda3/lib/python3.7/site-packages (from pandas) (2.8.0)\n",
      "Requirement already satisfied: pytz>=2017.2 in /Users/loni/opt/anaconda3/lib/python3.7/site-packages (from pandas) (2019.3)\n",
      "Requirement already satisfied: cycler>=0.10 in /Users/loni/opt/anaconda3/lib/python3.7/site-packages (from matplotlib) (0.10.0)\n",
      "Requirement already satisfied: kiwisolver>=1.0.1 in /Users/loni/opt/anaconda3/lib/python3.7/site-packages (from matplotlib) (1.1.0)\n",
      "Requirement already satisfied: pyparsing!=2.0.4,!=2.1.2,!=2.1.6,>=2.0.1 in /Users/loni/opt/anaconda3/lib/python3.7/site-packages (from matplotlib) (2.4.2)\n",
      "Requirement already satisfied: six>=1.5 in /Users/loni/opt/anaconda3/lib/python3.7/site-packages (from python-dateutil>=2.6.1->pandas) (1.12.0)\n",
      "Requirement already satisfied: setuptools in /Users/loni/opt/anaconda3/lib/python3.7/site-packages (from kiwisolver>=1.0.1->matplotlib) (41.4.0)\n",
      "Note: you may need to restart the kernel to use updated packages.\n"
     ]
    }
   ],
   "source": [
    "pip install numpy pandas matplotlib "
   ]
  },
  {
   "cell_type": "markdown",
   "metadata": {},
   "source": [
    "## Step 2: Build Functions"
   ]
  },
  {
   "cell_type": "markdown",
   "metadata": {},
   "source": [
    "### 2.1 Import modules"
   ]
  },
  {
   "cell_type": "code",
   "execution_count": 1,
   "metadata": {},
   "outputs": [],
   "source": [
    "import os, sys\n",
    "import pandas as pd\n",
    "import numpy as np\n",
    "import matplotlib.pyplot as plt"
   ]
  },
  {
   "cell_type": "markdown",
   "metadata": {},
   "source": [
    "### 2.2 Data extraction"
   ]
  },
  {
   "cell_type": "code",
   "execution_count": 2,
   "metadata": {},
   "outputs": [],
   "source": [
    "# Input: .csv files containing the raw data directly downloaded from pavlovia.org\n",
    "# Output: Dataframe file with selected items for all participants \n",
    "def Data2Df(categoryList):    \n",
    "    dfRaw = pd.DataFrame()\n",
    "    \n",
    "    for category in categoryList:\n",
    "        directory = category + \"/data/\"\n",
    "\n",
    "        for root,dirs,files in os.walk(directory):\n",
    "            for file in files:\n",
    "                if file.endswith(\".csv\"):\n",
    "                    dfParticipant = pd.read_csv(directory + file)\n",
    "                \n",
    "                    # add category column\n",
    "                    dfParticipant['category'] = category             \n",
    "                    dfRaw = dfRaw.append(dfParticipant)\n",
    "                    \n",
    "    # filter out useful information from raw data\n",
    "    df = dfRaw[['key_resp_2.keys', \n",
    "                'key_resp_2.rt', \n",
    "                'image_left', \n",
    "                'image_right', \n",
    "                'trial_num', \n",
    "                'participant', \n",
    "                'date',\n",
    "                'category']]\n",
    "    \n",
    "    # change column name to better organize data\n",
    "    df = df.rename(columns={'key_resp_2.keys': 'score', 'key_resp_2.rt': 'time'})\n",
    "    \n",
    "    # Disable warning due to potential 'chained' assignments in Dataframe\n",
    "    pd.options.mode.chained_assignment = None \n",
    "    df['score'] = df['score'].replace(['z', 'm'],[1, 0])\n",
    "    \n",
    "    return df"
   ]
  },
  {
   "cell_type": "markdown",
   "metadata": {},
   "source": [
    "### 2.3 Dataframe group"
   ]
  },
  {
   "cell_type": "code",
   "execution_count": 3,
   "metadata": {},
   "outputs": [],
   "source": [
    "def groupbyItem(df, item):\n",
    "    dfItem = df.groupby(item).mean()\n",
    "    dfItem = dfItem[['score', 'time']]\n",
    "    dfItem.reset_index(inplace=True)\n",
    "    \n",
    "    return dfItem"
   ]
  },
  {
   "cell_type": "markdown",
   "metadata": {},
   "source": [
    "## Step 3: Preliminary Visualization"
   ]
  },
  {
   "cell_type": "markdown",
   "metadata": {},
   "source": [
    "### 3.1 Plots"
   ]
  },
  {
   "cell_type": "code",
   "execution_count": 4,
   "metadata": {},
   "outputs": [
    {
     "name": "stderr",
     "output_type": "stream",
     "text": [
      "/Users/loni/opt/anaconda3/lib/python3.7/site-packages/pandas/core/frame.py:7123: FutureWarning: Sorting because non-concatenation axis is not aligned. A future version\n",
      "of pandas will change to not sort by default.\n",
      "\n",
      "To accept the future behavior, pass 'sort=False'.\n",
      "\n",
      "To retain the current behavior and silence the warning, pass 'sort=True'.\n",
      "\n",
      "  sort=sort,\n"
     ]
    },
    {
     "data": {
      "image/png": "[encoded data removed]",
      "text/plain": [
       "<Figure size 432x288 with 1 Axes>"
      ]
     },
     "metadata": {
      "needs_background": "light"
     },
     "output_type": "display_data"
    }
   ],
   "source": [
    "# Plot the average score of the 22 participants\n",
    "# Note: 1. this is the result for all 3 categories\n",
    "#       2. for each image pair, the participant gets 1 score if he/she select \n",
    "#          the left image, and 0 score if he/she select the right image\n",
    "\n",
    "# flowers\n",
    "categories = ['flowers']\n",
    "df = Data2Df(categories)\n",
    "fDf = groupbyItem(df, 'participant')\n",
    "x1 = fDf.index.to_numpy()\n",
    "y1 = fDf.score.to_numpy()\n",
    "z1 = fDf.time.to_numpy()\n",
    "\n",
    "# houses\n",
    "categories = ['houses']\n",
    "df = Data2Df(categories)\n",
    "hDf = groupbyItem(df, 'participant')\n",
    "x2 = hDf.index.to_numpy()\n",
    "y2 = hDf.score.to_numpy()\n",
    "z2 = hDf.time.to_numpy()\n",
    "\n",
    "# paints\n",
    "categories = ['paints']\n",
    "df = Data2Df(categories)\n",
    "pDf = groupbyItem(df, 'participant')\n",
    "x3 = pDf.index.to_numpy()\n",
    "y3 = pDf.score.to_numpy()\n",
    "z3 = pDf.time.to_numpy()\n",
    "\n",
    "\n",
    "plt.scatter(x1, y1, c='b', label = 'flowers')\n",
    "plt.scatter(x2, y2, c='g', label = 'houses')\n",
    "plt.scatter(x3, y3, c='r', label = 'paints')\n",
    "\n",
    "plt.xlabel('participants(0-22)')\n",
    "plt.ylabel('average socre')\n",
    "plt.legend()\n",
    "plt.grid()\n",
    "plt.show()"
   ]
  },
  {
   "cell_type": "code",
   "execution_count": 5,
   "metadata": {},
   "outputs": [
    {
     "data": {
      "image/png": "[encoded data removed]",
      "text/plain": [
       "<Figure size 432x288 with 1 Axes>"
      ]
     },
     "metadata": {
      "needs_background": "light"
     },
     "output_type": "display_data"
    }
   ],
   "source": [
    "plt.scatter(x1, z1, c='b', label = 'flowers')\n",
    "plt.scatter(x2, z2, c='g', label = 'houses')\n",
    "plt.scatter(x3, z3, c='r', label = 'paints')\n",
    "\n",
    "plt.xlabel('participants(0-22)')\n",
    "plt.ylabel('average choosing time')\n",
    "plt.legend()\n",
    "plt.grid()\n",
    "plt.show()"
   ]
  },
  {
   "cell_type": "markdown",
   "metadata": {},
   "source": [
    "### 3.2 Correlation analysis"
   ]
  },
  {
   "cell_type": "code",
   "execution_count": 7,
   "metadata": {},
   "outputs": [
    {
     "data": {
      "text/html": [
       "<div>\n",
       "<style scoped>\n",
       "    .dataframe tbody tr th:only-of-type {\n",
       "        vertical-align: middle;\n",
       "    }\n",
       "\n",
       "    .dataframe tbody tr th {\n",
       "        vertical-align: top;\n",
       "    }\n",
       "\n",
       "    .dataframe thead th {\n",
       "        text-align: right;\n",
       "    }\n",
       "</style>\n",
       "<table border=\"1\" class=\"dataframe\">\n",
       "  <thead>\n",
       "    <tr style=\"text-align: right;\">\n",
       "      <th></th>\n",
       "      <th>score</th>\n",
       "      <th>time</th>\n",
       "    </tr>\n",
       "  </thead>\n",
       "  <tbody>\n",
       "    <tr>\n",
       "      <td>score</td>\n",
       "      <td>1.000000</td>\n",
       "      <td>0.329719</td>\n",
       "    </tr>\n",
       "    <tr>\n",
       "      <td>time</td>\n",
       "      <td>0.329719</td>\n",
       "      <td>1.000000</td>\n",
       "    </tr>\n",
       "  </tbody>\n",
       "</table>\n",
       "</div>"
      ],
      "text/plain": [
       "          score      time\n",
       "score  1.000000  0.329719\n",
       "time   0.329719  1.000000"
      ]
     },
     "execution_count": 7,
     "metadata": {},
     "output_type": "execute_result"
    }
   ],
   "source": [
    "categories = ['flowers','houses','paints']\n",
    "df = Data2Df(categories)\n",
    "participantDf = groupbyItem(df, 'participant')\n",
    "participantDf.corr(method = 'kendall')"
   ]
  },
  {
   "cell_type": "code",
   "execution_count": 8,
   "metadata": {},
   "outputs": [
    {
     "data": {
      "text/html": [
       "<div>\n",
       "<style scoped>\n",
       "    .dataframe tbody tr th:only-of-type {\n",
       "        vertical-align: middle;\n",
       "    }\n",
       "\n",
       "    .dataframe tbody tr th {\n",
       "        vertical-align: top;\n",
       "    }\n",
       "\n",
       "    .dataframe thead th {\n",
       "        text-align: right;\n",
       "    }\n",
       "</style>\n",
       "<table border=\"1\" class=\"dataframe\">\n",
       "  <thead>\n",
       "    <tr style=\"text-align: right;\">\n",
       "      <th></th>\n",
       "      <th>score</th>\n",
       "      <th>time</th>\n",
       "      <th>image_left</th>\n",
       "      <th>image_right</th>\n",
       "      <th>trial_num</th>\n",
       "      <th>participant</th>\n",
       "      <th>date</th>\n",
       "      <th>category</th>\n",
       "    </tr>\n",
       "  </thead>\n",
       "  <tbody>\n",
       "    <tr>\n",
       "      <td>0</td>\n",
       "      <td>1</td>\n",
       "      <td>5.310000</td>\n",
       "      <td>flowers/images/125.jpg</td>\n",
       "      <td>flowers/images/165.jpg</td>\n",
       "      <td>1</td>\n",
       "      <td>Ai</td>\n",
       "      <td>2020-11-21_22h07.13.545</td>\n",
       "      <td>flowers</td>\n",
       "    </tr>\n",
       "    <tr>\n",
       "      <td>1</td>\n",
       "      <td>0</td>\n",
       "      <td>4.539000</td>\n",
       "      <td>flowers/images/168.jpg</td>\n",
       "      <td>flowers/images/195.jpg</td>\n",
       "      <td>2</td>\n",
       "      <td>Ai</td>\n",
       "      <td>2020-11-21_22h07.13.545</td>\n",
       "      <td>flowers</td>\n",
       "    </tr>\n",
       "    <tr>\n",
       "      <td>2</td>\n",
       "      <td>1</td>\n",
       "      <td>1.846000</td>\n",
       "      <td>flowers/images/114.jpg</td>\n",
       "      <td>flowers/images/131.jpg</td>\n",
       "      <td>3</td>\n",
       "      <td>Ai</td>\n",
       "      <td>2020-11-21_22h07.13.545</td>\n",
       "      <td>flowers</td>\n",
       "    </tr>\n",
       "    <tr>\n",
       "      <td>3</td>\n",
       "      <td>1</td>\n",
       "      <td>1.767000</td>\n",
       "      <td>flowers/images/110.jpg</td>\n",
       "      <td>flowers/images/241.jpg</td>\n",
       "      <td>4</td>\n",
       "      <td>Ai</td>\n",
       "      <td>2020-11-21_22h07.13.545</td>\n",
       "      <td>flowers</td>\n",
       "    </tr>\n",
       "    <tr>\n",
       "      <td>4</td>\n",
       "      <td>1</td>\n",
       "      <td>2.042000</td>\n",
       "      <td>flowers/images/157.jpg</td>\n",
       "      <td>flowers/images/170.jpg</td>\n",
       "      <td>5</td>\n",
       "      <td>Ai</td>\n",
       "      <td>2020-11-21_22h07.13.545</td>\n",
       "      <td>flowers</td>\n",
       "    </tr>\n",
       "    <tr>\n",
       "      <td>...</td>\n",
       "      <td>...</td>\n",
       "      <td>...</td>\n",
       "      <td>...</td>\n",
       "      <td>...</td>\n",
       "      <td>...</td>\n",
       "      <td>...</td>\n",
       "      <td>...</td>\n",
       "      <td>...</td>\n",
       "    </tr>\n",
       "    <tr>\n",
       "      <td>406</td>\n",
       "      <td>1</td>\n",
       "      <td>3.173355</td>\n",
       "      <td>paints/images/236.jpg</td>\n",
       "      <td>paints/images/369.jpg</td>\n",
       "      <td>207</td>\n",
       "      <td>Anran Luo</td>\n",
       "      <td>2020-11-22_14h53.35.645</td>\n",
       "      <td>paints</td>\n",
       "    </tr>\n",
       "    <tr>\n",
       "      <td>407</td>\n",
       "      <td>0</td>\n",
       "      <td>2.791595</td>\n",
       "      <td>paints/images/219.jpg</td>\n",
       "      <td>paints/images/136.jpg</td>\n",
       "      <td>208</td>\n",
       "      <td>Anran Luo</td>\n",
       "      <td>2020-11-22_14h53.35.645</td>\n",
       "      <td>paints</td>\n",
       "    </tr>\n",
       "    <tr>\n",
       "      <td>408</td>\n",
       "      <td>0</td>\n",
       "      <td>0.991650</td>\n",
       "      <td>paints/images/306.jpg</td>\n",
       "      <td>paints/images/239.jpg</td>\n",
       "      <td>209</td>\n",
       "      <td>Anran Luo</td>\n",
       "      <td>2020-11-22_14h53.35.645</td>\n",
       "      <td>paints</td>\n",
       "    </tr>\n",
       "    <tr>\n",
       "      <td>409</td>\n",
       "      <td>1</td>\n",
       "      <td>1.056805</td>\n",
       "      <td>paints/images/108.jpg</td>\n",
       "      <td>paints/images/259.jpg</td>\n",
       "      <td>210</td>\n",
       "      <td>Anran Luo</td>\n",
       "      <td>2020-11-22_14h53.35.645</td>\n",
       "      <td>paints</td>\n",
       "    </tr>\n",
       "    <tr>\n",
       "      <td>410</td>\n",
       "      <td>1</td>\n",
       "      <td>1.462680</td>\n",
       "      <td>paints/images/210.jpg</td>\n",
       "      <td>paints/images/30.jpg</td>\n",
       "      <td>211</td>\n",
       "      <td>Anran Luo</td>\n",
       "      <td>2020-11-22_14h53.35.645</td>\n",
       "      <td>paints</td>\n",
       "    </tr>\n",
       "  </tbody>\n",
       "</table>\n",
       "<p>26642 rows × 8 columns</p>\n",
       "</div>"
      ],
      "text/plain": [
       "     score      time              image_left             image_right  \\\n",
       "0        1  5.310000  flowers/images/125.jpg  flowers/images/165.jpg   \n",
       "1        0  4.539000  flowers/images/168.jpg  flowers/images/195.jpg   \n",
       "2        1  1.846000  flowers/images/114.jpg  flowers/images/131.jpg   \n",
       "3        1  1.767000  flowers/images/110.jpg  flowers/images/241.jpg   \n",
       "4        1  2.042000  flowers/images/157.jpg  flowers/images/170.jpg   \n",
       "..     ...       ...                     ...                     ...   \n",
       "406      1  3.173355   paints/images/236.jpg   paints/images/369.jpg   \n",
       "407      0  2.791595   paints/images/219.jpg   paints/images/136.jpg   \n",
       "408      0  0.991650   paints/images/306.jpg   paints/images/239.jpg   \n",
       "409      1  1.056805   paints/images/108.jpg   paints/images/259.jpg   \n",
       "410      1  1.462680   paints/images/210.jpg    paints/images/30.jpg   \n",
       "\n",
       "     trial_num participant                     date category  \n",
       "0            1          Ai  2020-11-21_22h07.13.545  flowers  \n",
       "1            2          Ai  2020-11-21_22h07.13.545  flowers  \n",
       "2            3          Ai  2020-11-21_22h07.13.545  flowers  \n",
       "3            4          Ai  2020-11-21_22h07.13.545  flowers  \n",
       "4            5          Ai  2020-11-21_22h07.13.545  flowers  \n",
       "..         ...         ...                      ...      ...  \n",
       "406        207   Anran Luo  2020-11-22_14h53.35.645   paints  \n",
       "407        208   Anran Luo  2020-11-22_14h53.35.645   paints  \n",
       "408        209   Anran Luo  2020-11-22_14h53.35.645   paints  \n",
       "409        210   Anran Luo  2020-11-22_14h53.35.645   paints  \n",
       "410        211   Anran Luo  2020-11-22_14h53.35.645   paints  \n",
       "\n",
       "[26642 rows x 8 columns]"
      ]
     },
     "execution_count": 8,
     "metadata": {},
     "output_type": "execute_result"
    }
   ],
   "source": [
    "df"
   ]
  },
  {
   "cell_type": "markdown",
   "metadata": {},
   "source": [
    "## Step 4: Export label files for deep learning"
   ]
  },
  {
   "cell_type": "code",
   "execution_count": 9,
   "metadata": {
    "id": "niFtpm5AItgK"
   },
   "outputs": [],
   "source": [
    "# Input: Dataframe from the output of Data2Df function\n",
    "# Output: Dataframe containing the score of each image\n",
    "def Df2Score(df):\n",
    "    # create score table for left image and right image, respectively\n",
    "    # the current score is calculated with basic average score of each\n",
    "    # image, more advanced math model can be applied to better differentiate \n",
    "    # the performance of each image.\n",
    "    key = df['score']\n",
    "\n",
    "    leftScore = key\n",
    "    rightScore = key.replace([1,0], [0,1])\n",
    "\n",
    "    # create image to score dataframe\n",
    "    imageDir = list(df['image_left']) + list(df['image_right'])\n",
    "    score = list(leftScore) + list(rightScore)\n",
    "    dfScore = pd.DataFrame({'imageDir':imageDir, 'score':score})\n",
    "    dfScore = dfScore.groupby('imageDir').mean()\n",
    "    \n",
    "    return dfScore"
   ]
  },
  {
   "cell_type": "code",
   "execution_count": 11,
   "metadata": {},
   "outputs": [
    {
     "name": "stdout",
     "output_type": "stream",
     "text": [
      "                           score\n",
      "imageDir                        \n",
      "flowers/images/0.jpg    0.363636\n",
      "flowers/images/1.jpg    0.227273\n",
      "flowers/images/10.jpg   0.431818\n",
      "flowers/images/100.jpg  0.477273\n",
      "flowers/images/101.jpg  0.454545\n",
      "...                          ...\n",
      "paints/images/95.jpg    0.363636\n",
      "paints/images/96.jpg    0.500000\n",
      "paints/images/97.jpg    0.568182\n",
      "paints/images/98.jpg    0.613636\n",
      "paints/images/99.jpg    0.477273\n",
      "\n",
      "[1151 rows x 1 columns]\n"
     ]
    }
   ],
   "source": [
    "dfScore = Df2Score(df)\n",
    "print(dfScore)\n",
    "dfScore.to_csv('score.csv')"
   ]
  },
  {
   "cell_type": "code",
   "execution_count": null,
   "metadata": {},
   "outputs": [],
   "source": []
  }
 ],
 "metadata": {
  "colab": {
   "name": "data_cleaning.ipynb",
   "provenance": []
  },
  "kernelspec": {
   "display_name": "Python 3",
   "language": "python",
   "name": "python3"
  },
  "language_info": {
   "codemirror_mode": {
    "name": "ipython",
    "version": 3
   },
   "file_extension": ".py",
   "mimetype": "text/x-python",
   "name": "python",
   "nbconvert_exporter": "python",
   "pygments_lexer": "ipython3",
   "version": "3.7.4"
  }
 },
 "nbformat": 4,
 "nbformat_minor": 1
}
