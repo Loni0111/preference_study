{
 "cells": [
  {
   "cell_type": "code",
   "execution_count": 1,
   "metadata": {
    "colab": {
     "base_uri": "https://localhost:8080/",
     "height": 358
    },
    "executionInfo": {
     "elapsed": 644,
     "status": "error",
     "timestamp": 1606353618128,
     "user": {
      "displayName": "Bei Xiao",
      "photoUrl": "https://lh3.googleusercontent.com/a-/AOh14Gh5jJ1JK3AhEhh4OeKpn1oO9oBBs5ZeItv9uEJLIQ=s64",
      "userId": "01278840222506979532"
     },
     "user_tz": 300
    },
    "id": "sAKn7WryItgJ",
    "outputId": "9bf4983d-ff06-45fd-dba0-ef0087f6060a"
   },
   "outputs": [
    {
     "name": "stderr",
     "output_type": "stream",
     "text": [
      "/Users/loni/opt/anaconda3/lib/python3.7/site-packages/pandas/core/frame.py:7123: FutureWarning: Sorting because non-concatenation axis is not aligned. A future version\n",
      "of pandas will change to not sort by default.\n",
      "\n",
      "To accept the future behavior, pass 'sort=False'.\n",
      "\n",
      "To retain the current behavior and silence the warning, pass 'sort=True'.\n",
      "\n",
      "  sort=sort,\n"
     ]
    }
   ],
   "source": [
    "# Cleaning data into pandas dataframe format\n",
    "import os\n",
    "import pandas as pd\n",
    "import numpy as np\n",
    "\n",
    "# read test data from the csv files in the result data folder\n",
    "# put the data into dataframe and filter out desired variables \n",
    "dfRaw = pd.DataFrame()\n",
    "\n",
    "categories = ['flowers', 'houses', 'paints']\n",
    "\n",
    "for category in categories:\n",
    "    directory = category + \"/data/\"\n",
    "\n",
    "    for root,dirs,files in os.walk(directory):\n",
    "        for file in files:\n",
    "            if file.endswith(\".csv\"):\n",
    "                dfParticipant = pd.read_csv(directory + file)\n",
    "                \n",
    "                # add category column\n",
    "                dfParticipant['category'] = category \n",
    "                # add image pair index\n",
    "                if category == 'flowers':\n",
    "                    dfParticipant['image_pair'] = np.arange(len(dfParticipant))\n",
    "                elif category == 'houses':\n",
    "                    dfParticipant['image_pair'] = np.arange(400, len(dfParticipant) + 400)\n",
    "                else:\n",
    "                    dfParticipant['image_pair'] = np.arange(800, len(dfParticipant) + 800)\n",
    "                    \n",
    "                dfRaw = dfRaw.append(dfParticipant)\n",
    "\n",
    "# filter out useful information from raw data\n",
    "df = dfRaw[['key_resp_2.keys', \n",
    "            'key_resp_2.rt', \n",
    "            'image_left', \n",
    "            'image_right', \n",
    "            'trial_num', \n",
    "            'participant', \n",
    "            'date',\n",
    "            'category',\n",
    "            'image_pair']]\n"
   ]
  },
  {
   "cell_type": "code",
   "execution_count": null,
   "metadata": {
    "id": "C-8C-opVItgJ"
   },
   "outputs": [],
   "source": [
    "# save raw data into a csv file\n",
    "df.to_csv(\"structured_data.csv\")"
   ]
  },
  {
   "cell_type": "code",
   "execution_count": 2,
   "metadata": {},
   "outputs": [
    {
     "data": {
      "text/html": [
       "<div>\n",
       "<style scoped>\n",
       "    .dataframe tbody tr th:only-of-type {\n",
       "        vertical-align: middle;\n",
       "    }\n",
       "\n",
       "    .dataframe tbody tr th {\n",
       "        vertical-align: top;\n",
       "    }\n",
       "\n",
       "    .dataframe thead th {\n",
       "        text-align: right;\n",
       "    }\n",
       "</style>\n",
       "<table border=\"1\" class=\"dataframe\">\n",
       "  <thead>\n",
       "    <tr style=\"text-align: right;\">\n",
       "      <th></th>\n",
       "      <th>key_resp_2.keys</th>\n",
       "      <th>key_resp_2.rt</th>\n",
       "      <th>image_left</th>\n",
       "      <th>image_right</th>\n",
       "      <th>trial_num</th>\n",
       "      <th>participant</th>\n",
       "      <th>date</th>\n",
       "      <th>category</th>\n",
       "      <th>image_pair</th>\n",
       "    </tr>\n",
       "  </thead>\n",
       "  <tbody>\n",
       "    <tr>\n",
       "      <td>0</td>\n",
       "      <td>z</td>\n",
       "      <td>5.310000</td>\n",
       "      <td>flowers/images/125.jpg</td>\n",
       "      <td>flowers/images/165.jpg</td>\n",
       "      <td>1</td>\n",
       "      <td>Ai</td>\n",
       "      <td>2020-11-21_22h07.13.545</td>\n",
       "      <td>flowers</td>\n",
       "      <td>0</td>\n",
       "    </tr>\n",
       "    <tr>\n",
       "      <td>1</td>\n",
       "      <td>m</td>\n",
       "      <td>4.539000</td>\n",
       "      <td>flowers/images/168.jpg</td>\n",
       "      <td>flowers/images/195.jpg</td>\n",
       "      <td>2</td>\n",
       "      <td>Ai</td>\n",
       "      <td>2020-11-21_22h07.13.545</td>\n",
       "      <td>flowers</td>\n",
       "      <td>1</td>\n",
       "    </tr>\n",
       "    <tr>\n",
       "      <td>2</td>\n",
       "      <td>z</td>\n",
       "      <td>1.846000</td>\n",
       "      <td>flowers/images/114.jpg</td>\n",
       "      <td>flowers/images/131.jpg</td>\n",
       "      <td>3</td>\n",
       "      <td>Ai</td>\n",
       "      <td>2020-11-21_22h07.13.545</td>\n",
       "      <td>flowers</td>\n",
       "      <td>2</td>\n",
       "    </tr>\n",
       "    <tr>\n",
       "      <td>3</td>\n",
       "      <td>z</td>\n",
       "      <td>1.767000</td>\n",
       "      <td>flowers/images/110.jpg</td>\n",
       "      <td>flowers/images/241.jpg</td>\n",
       "      <td>4</td>\n",
       "      <td>Ai</td>\n",
       "      <td>2020-11-21_22h07.13.545</td>\n",
       "      <td>flowers</td>\n",
       "      <td>3</td>\n",
       "    </tr>\n",
       "    <tr>\n",
       "      <td>4</td>\n",
       "      <td>z</td>\n",
       "      <td>2.042000</td>\n",
       "      <td>flowers/images/157.jpg</td>\n",
       "      <td>flowers/images/170.jpg</td>\n",
       "      <td>5</td>\n",
       "      <td>Ai</td>\n",
       "      <td>2020-11-21_22h07.13.545</td>\n",
       "      <td>flowers</td>\n",
       "      <td>4</td>\n",
       "    </tr>\n",
       "    <tr>\n",
       "      <td>...</td>\n",
       "      <td>...</td>\n",
       "      <td>...</td>\n",
       "      <td>...</td>\n",
       "      <td>...</td>\n",
       "      <td>...</td>\n",
       "      <td>...</td>\n",
       "      <td>...</td>\n",
       "      <td>...</td>\n",
       "      <td>...</td>\n",
       "    </tr>\n",
       "    <tr>\n",
       "      <td>406</td>\n",
       "      <td>z</td>\n",
       "      <td>3.173355</td>\n",
       "      <td>paints/images/236.jpg</td>\n",
       "      <td>paints/images/369.jpg</td>\n",
       "      <td>207</td>\n",
       "      <td>Anran Luo</td>\n",
       "      <td>2020-11-22_14h53.35.645</td>\n",
       "      <td>paints</td>\n",
       "      <td>1206</td>\n",
       "    </tr>\n",
       "    <tr>\n",
       "      <td>407</td>\n",
       "      <td>m</td>\n",
       "      <td>2.791595</td>\n",
       "      <td>paints/images/219.jpg</td>\n",
       "      <td>paints/images/136.jpg</td>\n",
       "      <td>208</td>\n",
       "      <td>Anran Luo</td>\n",
       "      <td>2020-11-22_14h53.35.645</td>\n",
       "      <td>paints</td>\n",
       "      <td>1207</td>\n",
       "    </tr>\n",
       "    <tr>\n",
       "      <td>408</td>\n",
       "      <td>m</td>\n",
       "      <td>0.991650</td>\n",
       "      <td>paints/images/306.jpg</td>\n",
       "      <td>paints/images/239.jpg</td>\n",
       "      <td>209</td>\n",
       "      <td>Anran Luo</td>\n",
       "      <td>2020-11-22_14h53.35.645</td>\n",
       "      <td>paints</td>\n",
       "      <td>1208</td>\n",
       "    </tr>\n",
       "    <tr>\n",
       "      <td>409</td>\n",
       "      <td>z</td>\n",
       "      <td>1.056805</td>\n",
       "      <td>paints/images/108.jpg</td>\n",
       "      <td>paints/images/259.jpg</td>\n",
       "      <td>210</td>\n",
       "      <td>Anran Luo</td>\n",
       "      <td>2020-11-22_14h53.35.645</td>\n",
       "      <td>paints</td>\n",
       "      <td>1209</td>\n",
       "    </tr>\n",
       "    <tr>\n",
       "      <td>410</td>\n",
       "      <td>z</td>\n",
       "      <td>1.462680</td>\n",
       "      <td>paints/images/210.jpg</td>\n",
       "      <td>paints/images/30.jpg</td>\n",
       "      <td>211</td>\n",
       "      <td>Anran Luo</td>\n",
       "      <td>2020-11-22_14h53.35.645</td>\n",
       "      <td>paints</td>\n",
       "      <td>1210</td>\n",
       "    </tr>\n",
       "  </tbody>\n",
       "</table>\n",
       "<p>26642 rows × 9 columns</p>\n",
       "</div>"
      ],
      "text/plain": [
       "    key_resp_2.keys  key_resp_2.rt              image_left  \\\n",
       "0                 z       5.310000  flowers/images/125.jpg   \n",
       "1                 m       4.539000  flowers/images/168.jpg   \n",
       "2                 z       1.846000  flowers/images/114.jpg   \n",
       "3                 z       1.767000  flowers/images/110.jpg   \n",
       "4                 z       2.042000  flowers/images/157.jpg   \n",
       "..              ...            ...                     ...   \n",
       "406               z       3.173355   paints/images/236.jpg   \n",
       "407               m       2.791595   paints/images/219.jpg   \n",
       "408               m       0.991650   paints/images/306.jpg   \n",
       "409               z       1.056805   paints/images/108.jpg   \n",
       "410               z       1.462680   paints/images/210.jpg   \n",
       "\n",
       "                image_right  trial_num participant                     date  \\\n",
       "0    flowers/images/165.jpg          1          Ai  2020-11-21_22h07.13.545   \n",
       "1    flowers/images/195.jpg          2          Ai  2020-11-21_22h07.13.545   \n",
       "2    flowers/images/131.jpg          3          Ai  2020-11-21_22h07.13.545   \n",
       "3    flowers/images/241.jpg          4          Ai  2020-11-21_22h07.13.545   \n",
       "4    flowers/images/170.jpg          5          Ai  2020-11-21_22h07.13.545   \n",
       "..                      ...        ...         ...                      ...   \n",
       "406   paints/images/369.jpg        207   Anran Luo  2020-11-22_14h53.35.645   \n",
       "407   paints/images/136.jpg        208   Anran Luo  2020-11-22_14h53.35.645   \n",
       "408   paints/images/239.jpg        209   Anran Luo  2020-11-22_14h53.35.645   \n",
       "409   paints/images/259.jpg        210   Anran Luo  2020-11-22_14h53.35.645   \n",
       "410    paints/images/30.jpg        211   Anran Luo  2020-11-22_14h53.35.645   \n",
       "\n",
       "    category  image_pair  \n",
       "0    flowers           0  \n",
       "1    flowers           1  \n",
       "2    flowers           2  \n",
       "3    flowers           3  \n",
       "4    flowers           4  \n",
       "..       ...         ...  \n",
       "406   paints        1206  \n",
       "407   paints        1207  \n",
       "408   paints        1208  \n",
       "409   paints        1209  \n",
       "410   paints        1210  \n",
       "\n",
       "[26642 rows x 9 columns]"
      ]
     },
     "execution_count": 2,
     "metadata": {},
     "output_type": "execute_result"
    }
   ],
   "source": [
    "df"
   ]
  },
  {
   "cell_type": "code",
   "execution_count": null,
   "metadata": {
    "id": "RjaJ_c4rItgJ",
    "outputId": "fe8ffd57-52ca-4f49-c7a2-1647aae98b49",
    "scrolled": false
   },
   "outputs": [
    {
     "data": {
      "image/png": "[encoded data removed]",
      "text/plain": [
       "<Figure size 432x288 with 1 Axes>"
      ]
     },
     "metadata": {
      "needs_background": "light",
      "tags": []
     },
     "output_type": "display_data"
    }
   ],
   "source": [
    "import matplotlib.pyplot as plt\n",
    "import numpy as np\n",
    "\n",
    "# assign color as left and right indicator\n",
    "key = df['key_resp_2.keys']\n",
    "color = key.replace(['z','m'], ['r','b'])\n",
    "\n",
    "# assign marker as the category indicator\n",
    "cat = df['category']\n",
    "marker = cat.replace(['flowers', 'houses', 'paints'], ['^', 'o', 's'])\n",
    "\n",
    "ax2 = df.plot.scatter(x='image_pair',\n",
    "                      y='key_resp_2.rt',\n",
    "                      c=color)"
   ]
  },
  {
   "cell_type": "code",
   "execution_count": null,
   "metadata": {
    "id": "kzsBhbKAItgK"
   },
   "outputs": [],
   "source": [
    "# create score table for left image and right image, respectively\n",
    "# the current score is calculated with basic average score of each\n",
    "# image, more advanced math model can be applied to better differentiate \n",
    "# the performance of each image.\n",
    "key = df['key_resp_2.keys']\n",
    "\n",
    "leftScore = key.replace(['z','m'], [1,0])\n",
    "rightScore = key.replace(['z','m'], [0,1])\n",
    "\n",
    "# create image to score dataframe\n",
    "imageDir = list(df['image_left']) + list(df['image_right'])\n",
    "score = list(leftScore) + list(rightScore)\n",
    "dfScore = pd.DataFrame({'imageDir':imageDir, 'score':score})\n",
    "dfScore = dfScore.groupby('imageDir').mean()\n",
    "dfScore.reset_index(inplace=True)\n",
    "dfScore.to_csv(\"score.csv\")"
   ]
  },
  {
   "cell_type": "code",
   "execution_count": null,
   "metadata": {
    "id": "LcEHgJXJItgK",
    "outputId": "3710a291-4434-48cd-d00d-06d0b4965f59"
   },
   "outputs": [
    {
     "data": {
      "image/png": "[encoded data removed]",
      "text/plain": [
       "<Figure size 432x288 with 1 Axes>"
      ]
     },
     "metadata": {
      "needs_background": "light",
      "tags": []
     },
     "output_type": "display_data"
    }
   ],
   "source": [
    "import matplotlib.pyplot as plt\n",
    "import numpy as np\n",
    "\n",
    "ax2 = dfScore.plot.scatter(x='imageDir',\n",
    "                           y='score')"
   ]
  },
  {
   "cell_type": "code",
   "execution_count": null,
   "metadata": {
    "id": "90YyCQyFItgK"
   },
   "outputs": [],
   "source": [
    "# image resize for computation efficiency \n",
    "from PIL import Image\n",
    "import os, sys\n",
    "\n",
    "for category in categories:\n",
    "    path = category + '/images/'\n",
    "    \n",
    "    # create a new folder for resized images\n",
    "    newpath = category + '/images_resized/'\n",
    "    os.makedirs(newpath)\n",
    "    dirs = os.listdir(path)\n",
    "\n",
    "    for item in dirs:\n",
    "        if os.path.isfile(path+item):\n",
    "            im = Image.open(path+item)\n",
    "            f, e = os.path.splitext(item)\n",
    "            imResize = im.resize((100,100), Image.ANTIALIAS)\n",
    "            imResize.save(newpath + '/' + f + '.jpg', 'JPEG', quality=90)"
   ]
  },
  {
   "cell_type": "code",
   "execution_count": null,
   "metadata": {
    "id": "2wMqwG-hItgK",
    "outputId": "3b4bec59-77b3-484e-8b05-d3722452dc9d"
   },
   "outputs": [
    {
     "data": {
      "text/plain": [
       "array([[[29, 30, 31, ..., 41, 44, 47],\n",
       "        [48, 49, 48, ..., 47, 47, 46],\n",
       "        [45, 44, 43, ..., 35, 36, 36],\n",
       "        ...,\n",
       "        [73, 76, 78, ..., 62, 66, 67],\n",
       "        [71, 76, 80, ..., 30, 30, 30],\n",
       "        [30, 30, 29, ..., 64, 63, 60]],\n",
       "\n",
       "       [[41, 42, 41, ..., 68, 71, 73],\n",
       "        [74, 75, 76, ..., 51, 51, 51],\n",
       "        [50, 49, 48, ..., 54, 55, 55],\n",
       "        ...,\n",
       "        [82, 85, 87, ..., 86, 86, 87],\n",
       "        [89, 94, 95, ..., 57, 57, 57],\n",
       "        [57, 57, 59, ..., 73, 72, 69]],\n",
       "\n",
       "       [[ 5,  6,  6, ..., 33, 40, 44],\n",
       "        [47, 50, 54, ..., 18, 18, 19],\n",
       "        [18, 19, 18, ..., 22, 23, 23],\n",
       "        ...,\n",
       "        [27, 30, 30, ..., 60, 61, 62],\n",
       "        [65, 70, 72, ..., 22, 22, 22],\n",
       "        [22, 22, 25, ..., 16, 19, 16]]], dtype=uint8)"
      ]
     },
     "execution_count": 18,
     "metadata": {
      "tags": []
     },
     "output_type": "execute_result"
    }
   ],
   "source": [
    "# convert image to tricolor score array \n",
    "from PIL import Image\n",
    "import numpy as np\n",
    "\n",
    "def jpg_2_arr(file):\n",
    "    img=Image.open(file)\n",
    "    r,g,b=img.split()\n",
    "\n",
    "    r_arr=np.array(r).reshape(650*500)\n",
    "    g_arr=np.array(g).reshape(650*500)\n",
    "    b_arr=np.array(b).reshape(650*500)\n",
    "\n",
    "    img_arr=np.concatenate((r_arr,g_arr,b_arr))\n",
    "    result=img_arr.reshape((3,650,500))\n",
    "    return result\n",
    "\n",
    "# demo image\n",
    "jpg_2_arr('flowers/images/125.jpg')"
   ]
  },
  {
   "cell_type": "code",
   "execution_count": null,
   "metadata": {
    "id": "niFtpm5AItgK"
   },
   "outputs": [],
   "source": []
  }
 ],
 "metadata": {
  "colab": {
   "name": "data_cleaning.ipynb",
   "provenance": []
  },
  "kernelspec": {
   "display_name": "Python 3",
   "language": "python",
   "name": "python3"
  },
  "language_info": {
   "codemirror_mode": {
    "name": "ipython",
    "version": 3
   },
   "file_extension": ".py",
   "mimetype": "text/x-python",
   "name": "python",
   "nbconvert_exporter": "python",
   "pygments_lexer": "ipython3",
   "version": "3.7.4"
  }
 },
 "nbformat": 4,
 "nbformat_minor": 1
}
