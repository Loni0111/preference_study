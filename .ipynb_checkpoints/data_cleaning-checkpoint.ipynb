{
 "cells": [
  {
   "cell_type": "markdown",
   "metadata": {},
   "source": [
    "# Part 2: Data Analysis"
   ]
  },
  {
   "cell_type": "markdown",
   "metadata": {},
   "source": [
    "## Step 1: Install necessary modules"
   ]
  },
  {
   "cell_type": "code",
   "execution_count": 1,
   "metadata": {},
   "outputs": [
    {
     "name": "stdout",
     "output_type": "stream",
     "text": [
      "Requirement already satisfied: numpy in /Users/loni/opt/anaconda3/lib/python3.7/site-packages (1.17.2)\n",
      "Requirement already satisfied: pandas in /Users/loni/opt/anaconda3/lib/python3.7/site-packages (0.25.1)\n",
      "Requirement already satisfied: matplotlib in /Users/loni/opt/anaconda3/lib/python3.7/site-packages (3.1.1)\n",
      "Requirement already satisfied: Pillow in /Users/loni/opt/anaconda3/lib/python3.7/site-packages (6.2.0)\n",
      "Requirement already satisfied: python-dateutil>=2.6.1 in /Users/loni/opt/anaconda3/lib/python3.7/site-packages (from pandas) (2.8.0)\n",
      "Requirement already satisfied: pytz>=2017.2 in /Users/loni/opt/anaconda3/lib/python3.7/site-packages (from pandas) (2019.3)\n",
      "Requirement already satisfied: cycler>=0.10 in /Users/loni/opt/anaconda3/lib/python3.7/site-packages (from matplotlib) (0.10.0)\n",
      "Requirement already satisfied: kiwisolver>=1.0.1 in /Users/loni/opt/anaconda3/lib/python3.7/site-packages (from matplotlib) (1.1.0)\n",
      "Requirement already satisfied: pyparsing!=2.0.4,!=2.1.2,!=2.1.6,>=2.0.1 in /Users/loni/opt/anaconda3/lib/python3.7/site-packages (from matplotlib) (2.4.2)\n",
      "Requirement already satisfied: six>=1.5 in /Users/loni/opt/anaconda3/lib/python3.7/site-packages (from python-dateutil>=2.6.1->pandas) (1.12.0)\n",
      "Requirement already satisfied: setuptools in /Users/loni/opt/anaconda3/lib/python3.7/site-packages (from kiwisolver>=1.0.1->matplotlib) (41.4.0)\n",
      "Note: you may need to restart the kernel to use updated packages.\n"
     ]
    }
   ],
   "source": [
    "pip install numpy pandas matplotlib "
   ]
  },
  {
   "cell_type": "markdown",
   "metadata": {},
   "source": [
    "## Step 2: Build Functions"
   ]
  },
  {
   "cell_type": "markdown",
   "metadata": {},
   "source": [
    "### 2.1 Import modules"
   ]
  },
  {
   "cell_type": "code",
   "execution_count": null,
   "metadata": {},
   "outputs": [],
   "source": [
    "import os, sys\n",
    "import pandas as pd\n",
    "import numpy as np\n",
    "import import matplotlib.pyplot as plt"
   ]
  },
  {
   "cell_type": "markdown",
   "metadata": {},
   "source": [
    "### 2.2 Data extraction"
   ]
  },
  {
   "cell_type": "code",
   "execution_count": null,
   "metadata": {},
   "outputs": [],
   "source": [
    "# Input: .csv files containing the raw data directly downloaded from pavlovia.org\n",
    "# Output: Dataframe file with selected items for all participants \n",
    "def Data2Df(categoryList):    \n",
    "    dfRaw = pd.DataFrame()\n",
    "    \n",
    "    for category in categoryList:\n",
    "        directory = category + \"/data/\"\n",
    "\n",
    "        for root,dirs,files in os.walk(directory):\n",
    "            for file in files:\n",
    "                if file.endswith(\".csv\"):\n",
    "                    dfParticipant = pd.read_csv(directory + file)\n",
    "                \n",
    "                    # add category column\n",
    "                    dfParticipant['category'] = category             \n",
    "                    dfRaw = dfRaw.append(dfParticipant)\n",
    "                    \n",
    "    # filter out useful information from raw data\n",
    "    df = dfRaw[['key_resp_2.keys', \n",
    "                'key_resp_2.rt', \n",
    "                'image_left', \n",
    "                'image_right', \n",
    "                'trial_num', \n",
    "                'participant', \n",
    "                'date',\n",
    "                'category']]\n",
    "    \n",
    "    # change column name to better organize data\n",
    "    df = df.rename(columns={'key_resp_2.keys': 'score', 'key_resp_2.rt': 'time'})\n",
    "    \n",
    "    # Disable warning due to potential 'chained' assignments in Dataframe\n",
    "    pd.options.mode.chained_assignment = None \n",
    "    df['score'] = df['score'].replace(['z', 'm'],[1, 0])\n",
    "    \n",
    "    return df"
   ]
  },
  {
   "cell_type": "markdown",
   "metadata": {},
   "source": [
    "### 2.3 Dataframe group"
   ]
  },
  {
   "cell_type": "code",
   "execution_count": null,
   "metadata": {},
   "outputs": [],
   "source": [
    "def groupbyItem(df, item):\n",
    "    dfItem = df.groupby(item).mean()\n",
    "    dfItem = dfItem[['score', 'time']]\n",
    "    dfItem.reset_index(inplace=True)\n",
    "    \n",
    "    return dfItem"
   ]
  },
  {
   "cell_type": "markdown",
   "metadata": {},
   "source": [
    "## Step 3: Preliminary Visualization"
   ]
  },
  {
   "cell_type": "markdown",
   "metadata": {},
   "source": [
    "### 3.1 Plots"
   ]
  },
  {
   "cell_type": "code",
   "execution_count": 9,
   "metadata": {},
   "outputs": [
    {
     "data": {
      "image/png": "[encoded data removed]",
      "text/plain": [
       "<Figure size 432x288 with 1 Axes>"
      ]
     },
     "metadata": {
      "needs_background": "light"
     },
     "output_type": "display_data"
    }
   ],
   "source": [
    "# Plot the average score of the 22 participants\n",
    "# Note: 1. this is the result for all 3 categories\n",
    "#       2. for each image pair, the participant gets 1 score if he/she select \n",
    "#          the left image, and 0 score if he/she select the right image\n",
    "\n",
    "# flowers\n",
    "categories = ['flowers']\n",
    "df = Data2Df(categories)\n",
    "fDf = groupbyItem(df, 'participant')\n",
    "x1 = fDf.index.to_numpy()\n",
    "y1 = fDf.score.to_numpy()\n",
    "z1 = fDf.time.to_numpy()\n",
    "\n",
    "# houses\n",
    "categories = ['houses']\n",
    "df = Data2Df(categories)\n",
    "hDf = groupbyItem(df, 'participant')\n",
    "x2 = hDf.index.to_numpy()\n",
    "y2 = hDf.score.to_numpy()\n",
    "z2 = hDf.time.to_numpy()\n",
    "\n",
    "# paints\n",
    "categories = ['paints']\n",
    "df = Data2Df(categories)\n",
    "pDf = groupbyItem(df, 'participant')\n",
    "x3 = pDf.index.to_numpy()\n",
    "y3 = pDf.score.to_numpy()\n",
    "z3 = pDf.time.to_numpy()\n",
    "\n",
    "\n",
    "plt.scatter(x1, y1, c='b', label = 'flowers')\n",
    "plt.scatter(x2, y2, c='g', label = 'houses')\n",
    "plt.scatter(x3, y3, c='r', label = 'paints')\n",
    "\n",
    "plt.xlabel('participants(0-22)')\n",
    "plt.ylabel('average socre')\n",
    "plt.legend()\n",
    "plt.grid()\n",
    "plt.show()"
   ]
  },
  {
   "cell_type": "code",
   "execution_count": 10,
   "metadata": {},
   "outputs": [
    {
     "data": {
      "image/png": "[encoded data removed]",
      "text/plain": [
       "<Figure size 432x288 with 1 Axes>"
      ]
     },
     "metadata": {
      "needs_background": "light"
     },
     "output_type": "display_data"
    }
   ],
   "source": [
    "plt.scatter(x1, z1, c='b', label = 'flowers')\n",
    "plt.scatter(x2, z2, c='g', label = 'houses')\n",
    "plt.scatter(x3, z3, c='r', label = 'paints')\n",
    "\n",
    "plt.xlabel('participants(0-22)')\n",
    "plt.ylabel('average choosing time')\n",
    "plt.legend()\n",
    "plt.grid()\n",
    "plt.show()"
   ]
  },
  {
   "cell_type": "markdown",
   "metadata": {},
   "source": [
    "### 3.2 Correlation analysis"
   ]
  },
  {
   "cell_type": "code",
   "execution_count": 12,
   "metadata": {},
   "outputs": [
    {
     "data": {
      "text/html": [
       "<div>\n",
       "<style scoped>\n",
       "    .dataframe tbody tr th:only-of-type {\n",
       "        vertical-align: middle;\n",
       "    }\n",
       "\n",
       "    .dataframe tbody tr th {\n",
       "        vertical-align: top;\n",
       "    }\n",
       "\n",
       "    .dataframe thead th {\n",
       "        text-align: right;\n",
       "    }\n",
       "</style>\n",
       "<table border=\"1\" class=\"dataframe\">\n",
       "  <thead>\n",
       "    <tr style=\"text-align: right;\">\n",
       "      <th></th>\n",
       "      <th>score</th>\n",
       "      <th>time</th>\n",
       "    </tr>\n",
       "  </thead>\n",
       "  <tbody>\n",
       "    <tr>\n",
       "      <td>score</td>\n",
       "      <td>1.000000</td>\n",
       "      <td>0.329719</td>\n",
       "    </tr>\n",
       "    <tr>\n",
       "      <td>time</td>\n",
       "      <td>0.329719</td>\n",
       "      <td>1.000000</td>\n",
       "    </tr>\n",
       "  </tbody>\n",
       "</table>\n",
       "</div>"
      ],
      "text/plain": [
       "          score      time\n",
       "score  1.000000  0.329719\n",
       "time   0.329719  1.000000"
      ]
     },
     "execution_count": 12,
     "metadata": {},
     "output_type": "execute_result"
    }
   ],
   "source": [
    "categories = ['flowers','houses','paints']\n",
    "df = Data2Df(categories)\n",
    "participantDf = groupbyParticipant(df)\n",
    "participantDf.corr(method = 'kendall')"
   ]
  },
  {
   "cell_type": "code",
   "execution_count": null,
   "metadata": {
    "id": "RjaJ_c4rItgJ",
    "outputId": "fe8ffd57-52ca-4f49-c7a2-1647aae98b49",
    "scrolled": false
   },
   "outputs": [
    {
     "data": {
      "image/png": "[encoded data removed]",
      "text/plain": [
       "<Figure size 432x288 with 1 Axes>"
      ]
     },
     "metadata": {
      "needs_background": "light",
      "tags": []
     },
     "output_type": "display_data"
    }
   ],
   "source": [
    "import matplotlib.pyplot as plt\n",
    "import numpy as np\n",
    "\n",
    "# assign color as left and right indicator\n",
    "key = df['key_resp_2.keys']\n",
    "color = key.replace(['z','m'], ['r','b'])\n",
    "\n",
    "# assign marker as the category indicator\n",
    "cat = df['category']\n",
    "marker = cat.replace(['flowers', 'houses', 'paints'], ['^', 'o', 's'])\n",
    "\n",
    "ax2 = df.plot.scatter(x='image_pair',\n",
    "                      y='key_resp_2.rt',\n",
    "                      c=color)"
   ]
  },
  {
   "cell_type": "code",
   "execution_count": null,
   "metadata": {
    "id": "kzsBhbKAItgK"
   },
   "outputs": [],
   "source": [
    "# create score table for left image and right image, respectively\n",
    "# the current score is calculated with basic average score of each\n",
    "# image, more advanced math model can be applied to better differentiate \n",
    "# the performance of each image.\n",
    "key = df['key_resp_2.keys']\n",
    "\n",
    "leftScore = key.replace(['z','m'], [1,0])\n",
    "rightScore = key.replace(['z','m'], [0,1])\n",
    "\n",
    "# create image to score dataframe\n",
    "imageDir = list(df['image_left']) + list(df['image_right'])\n",
    "score = list(leftScore) + list(rightScore)\n",
    "dfScore = pd.DataFrame({'imageDir':imageDir, 'score':score})\n",
    "dfScore = dfScore.groupby('imageDir').mean()\n",
    "dfScore.reset_index(inplace=True)\n",
    "dfScore.to_csv(\"score.csv\")"
   ]
  },
  {
   "cell_type": "code",
   "execution_count": null,
   "metadata": {
    "id": "LcEHgJXJItgK",
    "outputId": "3710a291-4434-48cd-d00d-06d0b4965f59"
   },
   "outputs": [
    {
     "data": {
      "image/png": "[encoded data removed]",
      "text/plain": [
       "<Figure size 432x288 with 1 Axes>"
      ]
     },
     "metadata": {
      "needs_background": "light",
      "tags": []
     },
     "output_type": "display_data"
    }
   ],
   "source": [
    "import matplotlib.pyplot as plt\n",
    "import numpy as np\n",
    "\n",
    "ax2 = dfScore.plot.scatter(x='imageDir',\n",
    "                           y='score')"
   ]
  },
  {
   "cell_type": "code",
   "execution_count": null,
   "metadata": {
    "id": "90YyCQyFItgK"
   },
   "outputs": [],
   "source": [
    "# image resize for computation efficiency \n",
    "from PIL import Image\n",
    "import os, sys\n",
    "\n",
    "for category in categories:\n",
    "    path = category + '/images/'\n",
    "    \n",
    "    # create a new folder for resized images\n",
    "    newpath = category + '/images_resized/'\n",
    "    os.makedirs(newpath)\n",
    "    dirs = os.listdir(path)\n",
    "\n",
    "    for item in dirs:\n",
    "        if os.path.isfile(path+item):\n",
    "            im = Image.open(path+item)\n",
    "            f, e = os.path.splitext(item)\n",
    "            imResize = im.resize((100,100), Image.ANTIALIAS)\n",
    "            imResize.save(newpath + '/' + f + '.jpg', 'JPEG', quality=90)"
   ]
  },
  {
   "cell_type": "code",
   "execution_count": null,
   "metadata": {
    "id": "2wMqwG-hItgK",
    "outputId": "3b4bec59-77b3-484e-8b05-d3722452dc9d"
   },
   "outputs": [
    {
     "data": {
      "text/plain": [
       "array([[[29, 30, 31, ..., 41, 44, 47],\n",
       "        [48, 49, 48, ..., 47, 47, 46],\n",
       "        [45, 44, 43, ..., 35, 36, 36],\n",
       "        ...,\n",
       "        [73, 76, 78, ..., 62, 66, 67],\n",
       "        [71, 76, 80, ..., 30, 30, 30],\n",
       "        [30, 30, 29, ..., 64, 63, 60]],\n",
       "\n",
       "       [[41, 42, 41, ..., 68, 71, 73],\n",
       "        [74, 75, 76, ..., 51, 51, 51],\n",
       "        [50, 49, 48, ..., 54, 55, 55],\n",
       "        ...,\n",
       "        [82, 85, 87, ..., 86, 86, 87],\n",
       "        [89, 94, 95, ..., 57, 57, 57],\n",
       "        [57, 57, 59, ..., 73, 72, 69]],\n",
       "\n",
       "       [[ 5,  6,  6, ..., 33, 40, 44],\n",
       "        [47, 50, 54, ..., 18, 18, 19],\n",
       "        [18, 19, 18, ..., 22, 23, 23],\n",
       "        ...,\n",
       "        [27, 30, 30, ..., 60, 61, 62],\n",
       "        [65, 70, 72, ..., 22, 22, 22],\n",
       "        [22, 22, 25, ..., 16, 19, 16]]], dtype=uint8)"
      ]
     },
     "execution_count": 18,
     "metadata": {
      "tags": []
     },
     "output_type": "execute_result"
    }
   ],
   "source": [
    "# convert image to tricolor score array \n",
    "from PIL import Image\n",
    "import numpy as np\n",
    "\n",
    "def jpg_2_arr(file):\n",
    "    img=Image.open(file)\n",
    "    r,g,b=img.split()\n",
    "\n",
    "    r_arr=np.array(r).reshape(650*500)\n",
    "    g_arr=np.array(g).reshape(650*500)\n",
    "    b_arr=np.array(b).reshape(650*500)\n",
    "\n",
    "    img_arr=np.concatenate((r_arr,g_arr,b_arr))\n",
    "    result=img_arr.reshape((3,650,500))\n",
    "    return result\n",
    "\n",
    "# demo image\n",
    "jpg_2_arr('flowers/images/125.jpg')"
   ]
  },
  {
   "cell_type": "code",
   "execution_count": null,
   "metadata": {
    "id": "niFtpm5AItgK"
   },
   "outputs": [],
   "source": []
  }
 ],
 "metadata": {
  "colab": {
   "name": "data_cleaning.ipynb",
   "provenance": []
  },
  "kernelspec": {
   "display_name": "Python 3",
   "language": "python",
   "name": "python3"
  },
  "language_info": {
   "codemirror_mode": {
    "name": "ipython",
    "version": 3
   },
   "file_extension": ".py",
   "mimetype": "text/x-python",
   "name": "python",
   "nbconvert_exporter": "python",
   "pygments_lexer": "ipython3",
   "version": "3.7.4"
  }
 },
 "nbformat": 4,
 "nbformat_minor": 1
}
