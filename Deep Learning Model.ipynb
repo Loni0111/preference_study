{
 "cells": [
  {
   "cell_type": "markdown",
   "metadata": {},
   "source": [
    "# Part 3: Deep Learning Model"
   ]
  },
  {
   "cell_type": "markdown",
   "metadata": {},
   "source": [
    "## Step 1: Install necessary modules"
   ]
  },
  {
   "cell_type": "code",
   "execution_count": null,
   "metadata": {},
   "outputs": [],
   "source": [
    "pip install Pillow"
   ]
  },
  {
   "cell_type": "markdown",
   "metadata": {},
   "source": [
    "## Step 2: Import modules"
   ]
  },
  {
   "cell_type": "code",
   "execution_count": null,
   "metadata": {},
   "outputs": [],
   "source": [
    "from PIL import Image\n",
    "import os, sys\n",
    "import numpy as np"
   ]
  },
  {
   "cell_type": "markdown",
   "metadata": {},
   "source": [
    "## Step 3: Prepare image dataset and tags"
   ]
  },
  {
   "cell_type": "code",
   "execution_count": null,
   "metadata": {},
   "outputs": [],
   "source": [
    "# image resize for computation efficiency \n",
    "for category in categories:\n",
    "    path = category + '/images/'\n",
    "    \n",
    "    # create a new folder for resized images\n",
    "    newpath = category + '/images_resized/'\n",
    "    os.makedirs(newpath)\n",
    "    dirs = os.listdir(path)\n",
    "\n",
    "    for item in dirs:\n",
    "        if os.path.isfile(path+item):\n",
    "            im = Image.open(path+item)\n",
    "            f, e = os.path.splitext(item)\n",
    "            imResize = im.resize((100,100), Image.ANTIALIAS)\n",
    "            imResize.save(newpath + '/' + f + '.jpg', 'JPEG', quality=90)"
   ]
  },
  {
   "cell_type": "markdown",
   "metadata": {},
   "source": [
    "## Step 4: Extract tricolor number matrix from image "
   ]
  },
  {
   "cell_type": "code",
   "execution_count": null,
   "metadata": {},
   "outputs": [],
   "source": [
    "# convert image to tricolor score array \n",
    "def jpg_2_arr(file):\n",
    "    img=Image.open(file)\n",
    "    r,g,b=img.split()\n",
    "\n",
    "    r_arr=np.array(r).reshape(650*500)\n",
    "    g_arr=np.array(g).reshape(650*500)\n",
    "    b_arr=np.array(b).reshape(650*500)\n",
    "\n",
    "    img_arr=np.concatenate((r_arr,g_arr,b_arr))\n",
    "    result=img_arr.reshape((3,650,500))\n",
    "    return result\n",
    "\n",
    "# demo image\n",
    "jpg_2_arr('flowers/images/125.jpg')"
   ]
  }
 ],
 "metadata": {
  "kernelspec": {
   "display_name": "Python 3",
   "language": "python",
   "name": "python3"
  },
  "language_info": {
   "codemirror_mode": {
    "name": "ipython",
    "version": 3
   },
   "file_extension": ".py",
   "mimetype": "text/x-python",
   "name": "python",
   "nbconvert_exporter": "python",
   "pygments_lexer": "ipython3",
   "version": "3.7.4"
  }
 },
 "nbformat": 4,
 "nbformat_minor": 2
}
